{
 "cells": [
  {
   "cell_type": "code",
   "execution_count": 1,
   "id": "5fba9235-2566-45b7-8f4b-6fef88889ab8",
   "metadata": {},
   "outputs": [
    {
     "data": {
      "text/html": [
       "<style>h1 {font-size: 2vw;} h2 {font-size: 1.5vw;} p {font-size: 1.4vw;} div.prompt, code, output, prompt, kbd, pre, samp {font-family: 'SF Mono', 'Courier New', Courier, monospace, sans-serif !important;font-size: 1.4vw !important;}</style>"
      ],
      "text/plain": [
       "<IPython.core.display.HTML object>"
      ]
     },
     "metadata": {},
     "output_type": "display_data"
    }
   ],
   "source": [
    "%load_ext autoreload\n",
    "%autoreload 2\n",
    "from notebook import *\n",
    "# if get something about NUMEXPR_MAX_THREADS being set incorrectly, don't worry.  It's not a problem."
   ]
  },
  {
   "cell_type": "markdown",
   "id": "b9b041ad-9904-4397-885e-7dcc757a9a22",
   "metadata": {},
   "source": [
    "# Code Example: Linked list v.s. array"
   ]
  },
  {
   "cell_type": "code",
   "execution_count": 2,
   "id": "b880ab02-6dc3-4a2e-b80e-1e18efa76b50",
   "metadata": {},
   "outputs": [
    {
     "data": {
      "text/html": [
       "\n",
       "            <style>\n",
       "        .side-by-side {\n",
       "            display: flex;\n",
       "            align-items: stretch;\n",
       "\n",
       "        }\n",
       "        .side-by-side-pane {\n",
       "            margin-right:1em;\n",
       "            border-right-style: solid;\n",
       "            border-right-color: black;\n",
       "            border-right-width: 1px;\n",
       "            flex: 1;\n",
       "        }\n",
       "        </style>\n",
       "        <div class=\"side-by-side\"> <div class='side-by-side-pane'><style>pre { line-height: 125%; }\n",
       "td.linenos .normal { color: inherit; background-color: transparent; padding-left: 5px; padding-right: 5px; }\n",
       "span.linenos { color: inherit; background-color: transparent; padding-left: 5px; padding-right: 5px; }\n",
       "td.linenos .special { color: #000000; background-color: #ffffc0; padding-left: 5px; padding-right: 5px; }\n",
       "span.linenos.special { color: #000000; background-color: #ffffc0; padding-left: 5px; padding-right: 5px; }\n",
       ".output_html .hll { background-color: #ffffcc }\n",
       ".output_html { background: #f8f8f8; }\n",
       ".output_html .c { color: #3D7B7B; font-style: italic } /* Comment */\n",
       ".output_html .err { border: 1px solid #FF0000 } /* Error */\n",
       ".output_html .k { color: #008000; font-weight: bold } /* Keyword */\n",
       ".output_html .o { color: #666666 } /* Operator */\n",
       ".output_html .ch { color: #3D7B7B; font-style: italic } /* Comment.Hashbang */\n",
       ".output_html .cm { color: #3D7B7B; font-style: italic } /* Comment.Multiline */\n",
       ".output_html .cp { color: #9C6500 } /* Comment.Preproc */\n",
       ".output_html .cpf { color: #3D7B7B; font-style: italic } /* Comment.PreprocFile */\n",
       ".output_html .c1 { color: #3D7B7B; font-style: italic } /* Comment.Single */\n",
       ".output_html .cs { color: #3D7B7B; font-style: italic } /* Comment.Special */\n",
       ".output_html .gd { color: #A00000 } /* Generic.Deleted */\n",
       ".output_html .ge { font-style: italic } /* Generic.Emph */\n",
       ".output_html .gr { color: #E40000 } /* Generic.Error */\n",
       ".output_html .gh { color: #000080; font-weight: bold } /* Generic.Heading */\n",
       ".output_html .gi { color: #008400 } /* Generic.Inserted */\n",
       ".output_html .go { color: #717171 } /* Generic.Output */\n",
       ".output_html .gp { color: #000080; font-weight: bold } /* Generic.Prompt */\n",
       ".output_html .gs { font-weight: bold } /* Generic.Strong */\n",
       ".output_html .gu { color: #800080; font-weight: bold } /* Generic.Subheading */\n",
       ".output_html .gt { color: #0044DD } /* Generic.Traceback */\n",
       ".output_html .kc { color: #008000; font-weight: bold } /* Keyword.Constant */\n",
       ".output_html .kd { color: #008000; font-weight: bold } /* Keyword.Declaration */\n",
       ".output_html .kn { color: #008000; font-weight: bold } /* Keyword.Namespace */\n",
       ".output_html .kp { color: #008000 } /* Keyword.Pseudo */\n",
       ".output_html .kr { color: #008000; font-weight: bold } /* Keyword.Reserved */\n",
       ".output_html .kt { color: #B00040 } /* Keyword.Type */\n",
       ".output_html .m { color: #666666 } /* Literal.Number */\n",
       ".output_html .s { color: #BA2121 } /* Literal.String */\n",
       ".output_html .na { color: #687822 } /* Name.Attribute */\n",
       ".output_html .nb { color: #008000 } /* Name.Builtin */\n",
       ".output_html .nc { color: #0000FF; font-weight: bold } /* Name.Class */\n",
       ".output_html .no { color: #880000 } /* Name.Constant */\n",
       ".output_html .nd { color: #AA22FF } /* Name.Decorator */\n",
       ".output_html .ni { color: #717171; font-weight: bold } /* Name.Entity */\n",
       ".output_html .ne { color: #CB3F38; font-weight: bold } /* Name.Exception */\n",
       ".output_html .nf { color: #0000FF } /* Name.Function */\n",
       ".output_html .nl { color: #767600 } /* Name.Label */\n",
       ".output_html .nn { color: #0000FF; font-weight: bold } /* Name.Namespace */\n",
       ".output_html .nt { color: #008000; font-weight: bold } /* Name.Tag */\n",
       ".output_html .nv { color: #19177C } /* Name.Variable */\n",
       ".output_html .ow { color: #AA22FF; font-weight: bold } /* Operator.Word */\n",
       ".output_html .w { color: #bbbbbb } /* Text.Whitespace */\n",
       ".output_html .mb { color: #666666 } /* Literal.Number.Bin */\n",
       ".output_html .mf { color: #666666 } /* Literal.Number.Float */\n",
       ".output_html .mh { color: #666666 } /* Literal.Number.Hex */\n",
       ".output_html .mi { color: #666666 } /* Literal.Number.Integer */\n",
       ".output_html .mo { color: #666666 } /* Literal.Number.Oct */\n",
       ".output_html .sa { color: #BA2121 } /* Literal.String.Affix */\n",
       ".output_html .sb { color: #BA2121 } /* Literal.String.Backtick */\n",
       ".output_html .sc { color: #BA2121 } /* Literal.String.Char */\n",
       ".output_html .dl { color: #BA2121 } /* Literal.String.Delimiter */\n",
       ".output_html .sd { color: #BA2121; font-style: italic } /* Literal.String.Doc */\n",
       ".output_html .s2 { color: #BA2121 } /* Literal.String.Double */\n",
       ".output_html .se { color: #AA5D1F; font-weight: bold } /* Literal.String.Escape */\n",
       ".output_html .sh { color: #BA2121 } /* Literal.String.Heredoc */\n",
       ".output_html .si { color: #A45A77; font-weight: bold } /* Literal.String.Interpol */\n",
       ".output_html .sx { color: #008000 } /* Literal.String.Other */\n",
       ".output_html .sr { color: #A45A77 } /* Literal.String.Regex */\n",
       ".output_html .s1 { color: #BA2121 } /* Literal.String.Single */\n",
       ".output_html .ss { color: #19177C } /* Literal.String.Symbol */\n",
       ".output_html .bp { color: #008000 } /* Name.Builtin.Pseudo */\n",
       ".output_html .fm { color: #0000FF } /* Name.Function.Magic */\n",
       ".output_html .vc { color: #19177C } /* Name.Variable.Class */\n",
       ".output_html .vg { color: #19177C } /* Name.Variable.Global */\n",
       ".output_html .vi { color: #19177C } /* Name.Variable.Instance */\n",
       ".output_html .vm { color: #19177C } /* Name.Variable.Magic */\n",
       ".output_html .il { color: #666666 } /* Literal.Number.Integer.Long */</style><div class=\"highlight\"><pre><span></span><span class=\"c1\">// linked_list/linked_list.c:25-37 (13 lines)</span>\n",
       "<span class=\"kt\">int</span><span class=\"w\"> </span><span class=\"nf\">depth_of_array</span><span class=\"p\">(</span><span class=\"k\">struct</span><span class=\"w\"> </span><span class=\"nc\">node</span><span class=\"w\"> </span><span class=\"o\">*</span><span class=\"n\">start</span><span class=\"p\">,</span><span class=\"w\"> </span><span class=\"kt\">int</span><span class=\"w\"> </span><span class=\"n\">size</span><span class=\"p\">)</span><span class=\"w\"></span>\n",
       "<span class=\"p\">{</span><span class=\"w\"></span>\n",
       "<span class=\"w\">    </span><span class=\"kt\">int</span><span class=\"w\"> </span><span class=\"n\">number_of_nodes</span><span class=\"w\"> </span><span class=\"o\">=</span><span class=\"w\"> </span><span class=\"mi\">0</span><span class=\"p\">,</span><span class=\"w\"> </span><span class=\"n\">i</span><span class=\"p\">;</span><span class=\"w\"></span>\n",
       "<span class=\"w\">    </span><span class=\"kt\">unsigned</span><span class=\"w\"> </span><span class=\"kt\">long</span><span class=\"w\"> </span><span class=\"n\">sum</span><span class=\"o\">=</span><span class=\"mi\">0</span><span class=\"p\">;</span><span class=\"w\"></span>\n",
       "<span class=\"w\">    </span><span class=\"k\">struct</span><span class=\"w\"> </span><span class=\"nc\">node</span><span class=\"w\"> </span><span class=\"o\">*</span><span class=\"n\">node</span><span class=\"w\"> </span><span class=\"o\">=</span><span class=\"w\"> </span><span class=\"n\">start</span><span class=\"p\">;</span><span class=\"w\"></span>\n",
       "<span class=\"w\">    </span><span class=\"k\">if</span><span class=\"p\">(</span><span class=\"n\">node</span><span class=\"o\">!=</span><span class=\"nb\">NULL</span><span class=\"p\">)</span><span class=\"w\"> </span><span class=\"n\">number_of_nodes</span><span class=\"o\">=</span><span class=\"mi\">1</span><span class=\"p\">;</span><span class=\"w\"></span>\n",
       "<span class=\"w\">    </span><span class=\"k\">for</span><span class=\"p\">(</span><span class=\"n\">i</span><span class=\"o\">=</span><span class=\"mi\">0</span><span class=\"p\">;</span><span class=\"n\">i</span><span class=\"o\">&lt;</span><span class=\"n\">size</span><span class=\"p\">;</span><span class=\"n\">i</span><span class=\"o\">++</span><span class=\"p\">)</span><span class=\"w\"></span>\n",
       "<span class=\"w\">    </span><span class=\"p\">{</span><span class=\"w\"></span>\n",
       "<span class=\"w\">        </span><span class=\"k\">if</span><span class=\"p\">(</span><span class=\"n\">node</span><span class=\"p\">[</span><span class=\"n\">i</span><span class=\"p\">].</span><span class=\"n\">next</span><span class=\"p\">)</span><span class=\"w\"></span>\n",
       "<span class=\"w\">            </span><span class=\"n\">number_of_nodes</span><span class=\"o\">++</span><span class=\"p\">;</span><span class=\"w\"></span>\n",
       "<span class=\"w\">    </span><span class=\"p\">}</span><span class=\"w\"></span>\n",
       "<span class=\"w\">    </span><span class=\"k\">return</span><span class=\"w\"> </span><span class=\"n\">number_of_nodes</span><span class=\"p\">;</span><span class=\"w\"></span>\n",
       "<span class=\"p\">}</span><span class=\"w\"></span>\n",
       "</pre></div>\n",
       "</div><div class='side-by-side-pane'><style>pre { line-height: 125%; }\n",
       "td.linenos .normal { color: inherit; background-color: transparent; padding-left: 5px; padding-right: 5px; }\n",
       "span.linenos { color: inherit; background-color: transparent; padding-left: 5px; padding-right: 5px; }\n",
       "td.linenos .special { color: #000000; background-color: #ffffc0; padding-left: 5px; padding-right: 5px; }\n",
       "span.linenos.special { color: #000000; background-color: #ffffc0; padding-left: 5px; padding-right: 5px; }\n",
       ".output_html .hll { background-color: #ffffcc }\n",
       ".output_html { background: #f8f8f8; }\n",
       ".output_html .c { color: #3D7B7B; font-style: italic } /* Comment */\n",
       ".output_html .err { border: 1px solid #FF0000 } /* Error */\n",
       ".output_html .k { color: #008000; font-weight: bold } /* Keyword */\n",
       ".output_html .o { color: #666666 } /* Operator */\n",
       ".output_html .ch { color: #3D7B7B; font-style: italic } /* Comment.Hashbang */\n",
       ".output_html .cm { color: #3D7B7B; font-style: italic } /* Comment.Multiline */\n",
       ".output_html .cp { color: #9C6500 } /* Comment.Preproc */\n",
       ".output_html .cpf { color: #3D7B7B; font-style: italic } /* Comment.PreprocFile */\n",
       ".output_html .c1 { color: #3D7B7B; font-style: italic } /* Comment.Single */\n",
       ".output_html .cs { color: #3D7B7B; font-style: italic } /* Comment.Special */\n",
       ".output_html .gd { color: #A00000 } /* Generic.Deleted */\n",
       ".output_html .ge { font-style: italic } /* Generic.Emph */\n",
       ".output_html .gr { color: #E40000 } /* Generic.Error */\n",
       ".output_html .gh { color: #000080; font-weight: bold } /* Generic.Heading */\n",
       ".output_html .gi { color: #008400 } /* Generic.Inserted */\n",
       ".output_html .go { color: #717171 } /* Generic.Output */\n",
       ".output_html .gp { color: #000080; font-weight: bold } /* Generic.Prompt */\n",
       ".output_html .gs { font-weight: bold } /* Generic.Strong */\n",
       ".output_html .gu { color: #800080; font-weight: bold } /* Generic.Subheading */\n",
       ".output_html .gt { color: #0044DD } /* Generic.Traceback */\n",
       ".output_html .kc { color: #008000; font-weight: bold } /* Keyword.Constant */\n",
       ".output_html .kd { color: #008000; font-weight: bold } /* Keyword.Declaration */\n",
       ".output_html .kn { color: #008000; font-weight: bold } /* Keyword.Namespace */\n",
       ".output_html .kp { color: #008000 } /* Keyword.Pseudo */\n",
       ".output_html .kr { color: #008000; font-weight: bold } /* Keyword.Reserved */\n",
       ".output_html .kt { color: #B00040 } /* Keyword.Type */\n",
       ".output_html .m { color: #666666 } /* Literal.Number */\n",
       ".output_html .s { color: #BA2121 } /* Literal.String */\n",
       ".output_html .na { color: #687822 } /* Name.Attribute */\n",
       ".output_html .nb { color: #008000 } /* Name.Builtin */\n",
       ".output_html .nc { color: #0000FF; font-weight: bold } /* Name.Class */\n",
       ".output_html .no { color: #880000 } /* Name.Constant */\n",
       ".output_html .nd { color: #AA22FF } /* Name.Decorator */\n",
       ".output_html .ni { color: #717171; font-weight: bold } /* Name.Entity */\n",
       ".output_html .ne { color: #CB3F38; font-weight: bold } /* Name.Exception */\n",
       ".output_html .nf { color: #0000FF } /* Name.Function */\n",
       ".output_html .nl { color: #767600 } /* Name.Label */\n",
       ".output_html .nn { color: #0000FF; font-weight: bold } /* Name.Namespace */\n",
       ".output_html .nt { color: #008000; font-weight: bold } /* Name.Tag */\n",
       ".output_html .nv { color: #19177C } /* Name.Variable */\n",
       ".output_html .ow { color: #AA22FF; font-weight: bold } /* Operator.Word */\n",
       ".output_html .w { color: #bbbbbb } /* Text.Whitespace */\n",
       ".output_html .mb { color: #666666 } /* Literal.Number.Bin */\n",
       ".output_html .mf { color: #666666 } /* Literal.Number.Float */\n",
       ".output_html .mh { color: #666666 } /* Literal.Number.Hex */\n",
       ".output_html .mi { color: #666666 } /* Literal.Number.Integer */\n",
       ".output_html .mo { color: #666666 } /* Literal.Number.Oct */\n",
       ".output_html .sa { color: #BA2121 } /* Literal.String.Affix */\n",
       ".output_html .sb { color: #BA2121 } /* Literal.String.Backtick */\n",
       ".output_html .sc { color: #BA2121 } /* Literal.String.Char */\n",
       ".output_html .dl { color: #BA2121 } /* Literal.String.Delimiter */\n",
       ".output_html .sd { color: #BA2121; font-style: italic } /* Literal.String.Doc */\n",
       ".output_html .s2 { color: #BA2121 } /* Literal.String.Double */\n",
       ".output_html .se { color: #AA5D1F; font-weight: bold } /* Literal.String.Escape */\n",
       ".output_html .sh { color: #BA2121 } /* Literal.String.Heredoc */\n",
       ".output_html .si { color: #A45A77; font-weight: bold } /* Literal.String.Interpol */\n",
       ".output_html .sx { color: #008000 } /* Literal.String.Other */\n",
       ".output_html .sr { color: #A45A77 } /* Literal.String.Regex */\n",
       ".output_html .s1 { color: #BA2121 } /* Literal.String.Single */\n",
       ".output_html .ss { color: #19177C } /* Literal.String.Symbol */\n",
       ".output_html .bp { color: #008000 } /* Name.Builtin.Pseudo */\n",
       ".output_html .fm { color: #0000FF } /* Name.Function.Magic */\n",
       ".output_html .vc { color: #19177C } /* Name.Variable.Class */\n",
       ".output_html .vg { color: #19177C } /* Name.Variable.Global */\n",
       ".output_html .vi { color: #19177C } /* Name.Variable.Instance */\n",
       ".output_html .vm { color: #19177C } /* Name.Variable.Magic */\n",
       ".output_html .il { color: #666666 } /* Literal.Number.Integer.Long */</style><div class=\"highlight\"><pre><span></span><span class=\"c1\">// linked_list/linked_list.c:12-23 (12 lines)</span>\n",
       "<span class=\"kt\">int</span><span class=\"w\"> </span><span class=\"nf\">depth_of_list</span><span class=\"p\">(</span><span class=\"k\">struct</span><span class=\"w\"> </span><span class=\"nc\">node</span><span class=\"w\"> </span><span class=\"o\">*</span><span class=\"n\">start</span><span class=\"p\">)</span><span class=\"w\"></span>\n",
       "<span class=\"p\">{</span><span class=\"w\"></span>\n",
       "<span class=\"w\">    </span><span class=\"kt\">int</span><span class=\"w\"> </span><span class=\"n\">number_of_nodes</span><span class=\"w\"> </span><span class=\"o\">=</span><span class=\"w\"> </span><span class=\"mi\">0</span><span class=\"p\">;</span><span class=\"w\"></span>\n",
       "<span class=\"w\">    </span><span class=\"kt\">unsigned</span><span class=\"w\"> </span><span class=\"kt\">long</span><span class=\"w\"> </span><span class=\"n\">sum</span><span class=\"o\">=</span><span class=\"mi\">0</span><span class=\"p\">;</span><span class=\"w\"></span>\n",
       "<span class=\"w\">    </span><span class=\"k\">struct</span><span class=\"w\"> </span><span class=\"nc\">node</span><span class=\"w\"> </span><span class=\"o\">*</span><span class=\"n\">node</span><span class=\"w\"> </span><span class=\"o\">=</span><span class=\"w\"> </span><span class=\"n\">start</span><span class=\"p\">;</span><span class=\"w\"></span>\n",
       "<span class=\"w\">    </span><span class=\"k\">while</span><span class=\"p\">(</span><span class=\"n\">node</span><span class=\"p\">)</span><span class=\"w\"></span>\n",
       "<span class=\"w\">    </span><span class=\"p\">{</span><span class=\"w\"></span>\n",
       "<span class=\"w\">        </span><span class=\"n\">node</span><span class=\"w\"> </span><span class=\"o\">=</span><span class=\"w\"> </span><span class=\"n\">node</span><span class=\"o\">-&gt;</span><span class=\"n\">next</span><span class=\"p\">;</span><span class=\"w\"></span>\n",
       "<span class=\"w\">        </span><span class=\"n\">number_of_nodes</span><span class=\"o\">++</span><span class=\"p\">;</span><span class=\"w\"></span>\n",
       "<span class=\"w\">    </span><span class=\"p\">}</span><span class=\"w\"></span>\n",
       "<span class=\"w\">    </span><span class=\"k\">return</span><span class=\"w\"> </span><span class=\"n\">number_of_nodes</span><span class=\"p\">;</span><span class=\"w\"></span>\n",
       "<span class=\"p\">}</span><span class=\"w\"></span>\n",
       "</pre></div>\n",
       "</div>\n",
       "        </div>\n",
       "    "
      ],
      "text/plain": [
       "<IPython.core.display.HTML object>"
      ]
     },
     "execution_count": 2,
     "metadata": {},
     "output_type": "execute_result"
    }
   ],
   "source": [
    "compare([do_render_code(\"linked_list/linked_list.c\", show=\"depth_of_array\"),do_render_code(\"linked_list/linked_list.c\", show=\"depth_of_list\")])"
   ]
  },
  {
   "cell_type": "code",
   "execution_count": 3,
   "id": "ac030816-b901-4871-99b4-24a588c3c855",
   "metadata": {},
   "outputs": [
    {
     "name": "stdout",
     "output_type": "stream",
     "text": [
      "make: Entering directory '/nfshome/htseng/courses/CS203/demo/OoO_programming/linked_list'\n",
      "rm -f linked_list linked_list.s\n",
      "make: Leaving directory '/nfshome/htseng/courses/CS203/demo/OoO_programming/linked_list'\n",
      "make: Entering directory '/nfshome/htseng/courses/CS203/demo/OoO_programming/linked_list'\n",
      "cc -O3 -Wno-implicit-function-declaration -Wno-format-zero-length -DHAVE_LINUX_PERF_EVENT_H perfstats.c  linked_list.c -o linked_list\n",
      "cc -S -O3 -Wno-implicit-function-declaration -Wno-format-zero-length -DHAVE_LINUX_PERF_EVENT_H linked_list.c \n",
      "make: Leaving directory '/nfshome/htseng/courses/CS203/demo/OoO_programming/linked_list'\n",
      "depth: 4096\n",
      "depth: 4096\n"
     ]
    }
   ],
   "source": [
    "! make -C linked_list clean ; make -C linked_list\n",
    "! echo \"size,list,IC,Cycles,CPI,CT,ET,L1_dcache_miss_rate,L1_dcache_misses,L1_dcache_accesses,branches,branch_misses\" > stats.csv\n",
    "! echo -n \"4096,0,\" >> stats.csv\n",
    "! linked_list/linked_list 4096 0\n",
    "! echo -n \"4096,1,\" >> stats.csv\n",
    "! linked_list/linked_list 4096 1"
   ]
  },
  {
   "cell_type": "code",
   "execution_count": null,
   "id": "eb5af398-4b36-4be5-b3a8-eed2d14d2ebb",
   "metadata": {},
   "outputs": [],
   "source": [
    "display_df_mono(render_csv(\"stats.csv\"))"
   ]
  },
  {
   "cell_type": "code",
   "execution_count": null,
   "id": "8d173020-b8e9-4ea9-a579-1f9ff55ed590",
   "metadata": {},
   "outputs": [],
   "source": [
    "compare([do_render_code(\"linked_list/linked_list.s\", show=[\"depth_of_array:\",\".LFE40:\"]),do_render_code(\"linked_list/linked_list.s\", show=[\"depth_of_list\",\".LFE39:\"])])"
   ]
  },
  {
   "cell_type": "markdown",
   "id": "914e93f7-59f9-4554-92d7-b26d39b1e53c",
   "metadata": {},
   "source": [
    "# Code example: popcount\n",
    "\n",
    "Given a 64-bit integer number, find the number of 1s in its binary representation.\n",
    "Example 1:\n",
    "Input: 59487\n",
    "Output: 9\n",
    "\n",
    "Explanation: 9487’s binary representation is 0b10110010100001111"
   ]
  },
  {
   "cell_type": "code",
   "execution_count": null,
   "id": "8a8112bd-8bda-4296-afc8-aff177f8a456",
   "metadata": {},
   "outputs": [],
   "source": [
    "render_code(\"popcounts/popcount.cpp\", show=[\"#else //A\", \"#endif\"])"
   ]
  },
  {
   "cell_type": "code",
   "execution_count": null,
   "id": "43624482-c917-4760-8155-9e56d5f2be2f",
   "metadata": {},
   "outputs": [],
   "source": [
    "render_code(\"popcounts/popcount.cpp\", show=[\"#ifdef B\", \"#else\"])"
   ]
  },
  {
   "cell_type": "code",
   "execution_count": null,
   "id": "1782b24a-d792-4e33-8f73-5a4f645e8849",
   "metadata": {},
   "outputs": [],
   "source": [
    "render_code(\"popcounts/popcount.cpp\", show=[\"#ifdef C\", \"#else\"])"
   ]
  },
  {
   "cell_type": "code",
   "execution_count": null,
   "id": "bcd2c5fa-6064-45fa-9a71-7d03c96b8dfd",
   "metadata": {},
   "outputs": [],
   "source": [
    "render_code(\"popcounts/popcount.cpp\", show=[\"#ifdef D\", \"#else\"])"
   ]
  },
  {
   "cell_type": "code",
   "execution_count": null,
   "id": "9f3028c2-6719-4c7c-99af-bdf4b3ff6eba",
   "metadata": {},
   "outputs": [],
   "source": [
    "render_code(\"popcounts/popcount.cpp\", show=[\"#ifdef E\", \"#else\"])"
   ]
  },
  {
   "cell_type": "markdown",
   "id": "4065d485-854c-4113-a9c3-4c26b421838a",
   "metadata": {},
   "source": [
    "## Who has the best performance?"
   ]
  },
  {
   "cell_type": "code",
   "execution_count": null,
   "id": "925f2423-e6d5-4290-ae95-bbe574f56237",
   "metadata": {},
   "outputs": [],
   "source": [
    "render_code(\"popcounts/popcount.cpp\", show=\"main\")"
   ]
  },
  {
   "cell_type": "code",
   "execution_count": null,
   "id": "12c558d0-2b93-4a54-9d82-f5c5ccebf7e7",
   "metadata": {},
   "outputs": [],
   "source": [
    "! make -C popcounts clean; make -C popcounts\n",
    "! echo \"Version A\"; time ./popcounts/popcount_A\n",
    "! echo \"Version B\";time ./popcounts/popcount_B\n",
    "! echo \"Version C\";time ./popcounts/popcount_C\n",
    "! echo \"Version D\";time ./popcounts/popcount_D\n",
    "! echo \"Version E\";time ./popcounts/popcount_E"
   ]
  },
  {
   "cell_type": "code",
   "execution_count": null,
   "id": "f9afb912-5ab7-4d2b-9e56-a86e2ff2a20e",
   "metadata": {},
   "outputs": [],
   "source": [
    "! perf stat ./popcounts/popcount_C"
   ]
  },
  {
   "cell_type": "code",
   "execution_count": null,
   "id": "cf0e9471-2fe6-41ad-858c-cfe435e6f96f",
   "metadata": {},
   "outputs": [],
   "source": [
    "! perf stat ./popcounts/popcount_D"
   ]
  },
  {
   "cell_type": "code",
   "execution_count": null,
   "id": "6ded18ef-cb08-4829-8ac0-9f0afc070402",
   "metadata": {},
   "outputs": [],
   "source": [
    "! perf stat ./popcounts/popcount_E"
   ]
  },
  {
   "cell_type": "code",
   "execution_count": null,
   "id": "c4a97db8-85b4-4efe-9a80-be55f82572cf",
   "metadata": {},
   "outputs": [],
   "source": [
    "! perf stat ./popcounts/popcount_A"
   ]
  },
  {
   "cell_type": "markdown",
   "id": "2d8f70d8-eab2-4a17-84cc-a3cd6385dcaf",
   "metadata": {},
   "source": [
    "## How to implement a branch?\n"
   ]
  },
  {
   "cell_type": "code",
   "execution_count": null,
   "id": "81de651f-3692-45c0-9064-fda86825865d",
   "metadata": {},
   "outputs": [],
   "source": [
    "compare([do_render_code(\"branch/branch.c\",show=[\"#ifdef BITWISE\",\"#else\"]),do_render_code(\"branch/branch.c\",show=[\"#else // B\",\"#endif\"]),do_render_code(\"branch/branch.c\",show=[\"#ifdef NO_BRANCH\",\"#else\"]),do_render_code(\"branch/branch.c\",show=[\"#ifdef COND\",\"#else\"])])"
   ]
  },
  {
   "cell_type": "code",
   "execution_count": null,
   "id": "75d68adb-df0f-4254-b662-8189854b5944",
   "metadata": {},
   "outputs": [],
   "source": [
    "! make -C branch clean; make -C branch\n",
    "! perf stat branch/branch_A 1024 16777216\n",
    "! perf stat branch/branch_B 1024 16777216\n",
    "! perf stat branch/branch_C 1024 16777216\n",
    "! perf stat branch/branch_D 1024 16777216"
   ]
  },
  {
   "cell_type": "markdown",
   "id": "c39caa3a-7650-45ba-8a96-a11acc4d224e",
   "metadata": {},
   "source": [
    "## ILP of your program"
   ]
  },
  {
   "cell_type": "code",
   "execution_count": null,
   "id": "a2a9a911-f87c-4596-83e6-a01a3a0ceb83",
   "metadata": {},
   "outputs": [],
   "source": [
    "! perf stat ./popcounts/popcount_D"
   ]
  },
  {
   "cell_type": "code",
   "execution_count": null,
   "id": "1db6b93c-36cd-4f7e-99f9-e5d40c0ce854",
   "metadata": {},
   "outputs": [],
   "source": []
  }
 ],
 "metadata": {
  "kernelspec": {
   "display_name": "Python 3 (ipykernel)",
   "language": "python",
   "name": "python3"
  },
  "language_info": {
   "codemirror_mode": {
    "name": "ipython",
    "version": 3
   },
   "file_extension": ".py",
   "mimetype": "text/x-python",
   "name": "python",
   "nbconvert_exporter": "python",
   "pygments_lexer": "ipython3",
   "version": "3.8.10"
  },
  "widgets": {
   "application/vnd.jupyter.widget-state+json": {
    "state": {},
    "version_major": 2,
    "version_minor": 0
   }
  }
 },
 "nbformat": 4,
 "nbformat_minor": 5
}
