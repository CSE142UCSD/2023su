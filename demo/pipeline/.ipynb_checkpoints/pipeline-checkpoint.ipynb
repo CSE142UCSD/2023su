{
 "cells": [
  {
   "cell_type": "code",
   "execution_count": null,
   "id": "5fba9235-2566-45b7-8f4b-6fef88889ab8",
   "metadata": {},
   "outputs": [],
   "source": [
    "%load_ext autoreload\n",
    "%autoreload 2\n",
    "from notebook import *\n",
    "# if get something about NUMEXPR_MAX_THREADS being set incorrectly, don't worry.  It's not a problem."
   ]
  },
  {
   "cell_type": "markdown",
   "id": "914e93f7-59f9-4554-92d7-b26d39b1e53c",
   "metadata": {},
   "source": [
    "# Myth of programming\n",
    "\n",
    "Consider the following code snippets, which side is faster?"
   ]
  },
  {
   "cell_type": "code",
   "execution_count": null,
   "id": "8a8112bd-8bda-4296-afc8-aff177f8a456",
   "metadata": {},
   "outputs": [],
   "source": [
    "compare([do_render_code(\"swap.c\", show=\"regswap\"),do_render_code(\"swap.c\", show=\"xorswap\")])"
   ]
  },
  {
   "cell_type": "code",
   "execution_count": null,
   "id": "43624482-c917-4760-8155-9e56d5f2be2f",
   "metadata": {},
   "outputs": [],
   "source": [
    "render_code(\"swap.c\")"
   ]
  },
  {
   "cell_type": "code",
   "execution_count": null,
   "id": "1782b24a-d792-4e33-8f73-5a4f645e8849",
   "metadata": {},
   "outputs": [],
   "source": [
    "! make clean; make swap\n",
    "! echo \"Version A\"\n",
    "! ./swap 1048576 0; ./swap 1048576 0;  ./swap 1048576 0;  ./swap 1048576 0;  ./swap 1048576 0\n",
    "! echo \"Version B\"\n",
    "#./arithmetics_2_B; ./arithmetics_2_B; ./arithmetics_2_B; ./arithmetics_2_B; ./arithmetics_2_B\n",
    "! ./swap 1048576 1;./swap 1048576 1;./swap 1048576 1;./swap 1048576 1;./swap 1048576 1"
   ]
  },
  {
   "cell_type": "code",
   "execution_count": null,
   "id": "187dcb1d-d086-4133-8802-03eed3d7834f",
   "metadata": {},
   "outputs": [],
   "source": [
    "! gcc -S -O3 swap.c"
   ]
  },
  {
   "cell_type": "code",
   "execution_count": null,
   "id": "5ee06ac0-737d-421a-a6ac-5c12006eabe9",
   "metadata": {},
   "outputs": [],
   "source": [
    "render_code(\"swap.s\")"
   ]
  },
  {
   "cell_type": "markdown",
   "id": "089e5781-528e-404c-b611-679cb54da2b7",
   "metadata": {},
   "source": [
    "## Linked List v.s. Array"
   ]
  },
  {
   "cell_type": "code",
   "execution_count": null,
   "id": "58f1be1c-570b-4030-b1f9-1475f80e4a8e",
   "metadata": {},
   "outputs": [],
   "source": [
    "compare([do_render_code(\"linked_list.c\", show=\"sum_of_array\"),do_render_code(\"linked_list.c\", show=\"depth_of_list\")])"
   ]
  },
  {
   "cell_type": "code",
   "execution_count": null,
   "id": "585c942f-f332-48f2-83d9-ecd0b077f2c8",
   "metadata": {},
   "outputs": [],
   "source": [
    "! make clean; make\n",
    "! echo \"size,list,IC,Cycles,CPI,CT,ET,L1_dcache_miss_rate,L1_dcache_misses,L1_dcache_accesses,branches,branch_misses\" > stats.csv\n",
    "! echo -n \"4096,1,\" >> stats.csv\n",
    "! ./linked_list 4096 1\n",
    "! echo -n \"4096,0,\" >> stats.csv\n",
    "! ./linked_list 4096 0"
   ]
  },
  {
   "cell_type": "code",
   "execution_count": null,
   "id": "3bdb9ad9-2da0-42ca-a4e1-133c79709bab",
   "metadata": {},
   "outputs": [],
   "source": [
    "display_df_mono(render_csv(\"stats.csv\"))"
   ]
  },
  {
   "cell_type": "code",
   "execution_count": null,
   "id": "ee4274c0-4735-41d2-92ab-2775a7d27d0b",
   "metadata": {},
   "outputs": [],
   "source": [
    "render_code(\"linked_list.s\", show=[\"sum_of_array:\",\".LFE40:\"])"
   ]
  },
  {
   "cell_type": "markdown",
   "id": "8cbaf852-1689-4bdf-a11c-614351268e63",
   "metadata": {},
   "source": [
    "The main loop between L10 and L9 has two "
   ]
  }
 ],
 "metadata": {
  "kernelspec": {
   "display_name": "Python 3 (ipykernel)",
   "language": "python",
   "name": "python3"
  },
  "language_info": {
   "codemirror_mode": {
    "name": "ipython",
    "version": 3
   },
   "file_extension": ".py",
   "mimetype": "text/x-python",
   "name": "python",
   "nbconvert_exporter": "python",
   "pygments_lexer": "ipython3",
   "version": "3.8.10"
  },
  "widgets": {
   "application/vnd.jupyter.widget-state+json": {
    "state": {},
    "version_major": 2,
    "version_minor": 0
   }
  }
 },
 "nbformat": 4,
 "nbformat_minor": 5
}
