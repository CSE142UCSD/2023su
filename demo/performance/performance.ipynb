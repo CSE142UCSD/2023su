{
 "cells": [
  {
   "cell_type": "code",
   "execution_count": 21,
   "id": "efe67395-1de2-4dbe-a212-508f06a3af13",
   "metadata": {},
   "outputs": [
    {
     "name": "stdout",
     "output_type": "stream",
     "text": [
      "The autoreload extension is already loaded. To reload it, use:\n",
      "  %reload_ext autoreload\n"
     ]
    }
   ],
   "source": [
    "# Please execute/shift-return this cell everytime you run the notebook.  Don't edit it. \n",
    "%load_ext autoreload\n",
    "%autoreload 2\n",
    "from notebook import * "
   ]
  },
  {
   "cell_type": "markdown",
   "id": "c997f135-d359-4c23-a82c-935bfc501075",
   "metadata": {
    "tags": []
   },
   "source": [
    "# Performance\n",
    "\n",
    "## How programmers affects performance?"
   ]
  },
  {
   "cell_type": "code",
   "execution_count": 22,
   "id": "400de324-0875-49d5-b68e-f6b2114cd591",
   "metadata": {},
   "outputs": [
    {
     "data": {
      "text/html": [
       "\n",
       "            <style>\n",
       "        .side-by-side {\n",
       "            display: flex;\n",
       "            align-items: stretch;\n",
       "\n",
       "        }\n",
       "        .side-by-side-pane {\n",
       "            margin-right:1em;\n",
       "            border-right-style: solid;\n",
       "            border-right-color: black;\n",
       "            border-right-width: 1px;\n",
       "            flex: 1;\n",
       "        }\n",
       "        </style>\n",
       "        <div class=\"side-by-side\"> <div class='side-by-side-pane'><style>pre { line-height: 125%; }\n",
       "td.linenos .normal { color: inherit; background-color: transparent; padding-left: 5px; padding-right: 5px; }\n",
       "span.linenos { color: inherit; background-color: transparent; padding-left: 5px; padding-right: 5px; }\n",
       "td.linenos .special { color: #000000; background-color: #ffffc0; padding-left: 5px; padding-right: 5px; }\n",
       "span.linenos.special { color: #000000; background-color: #ffffc0; padding-left: 5px; padding-right: 5px; }\n",
       ".output_html .hll { background-color: #ffffcc }\n",
       ".output_html { background: #f8f8f8; }\n",
       ".output_html .c { color: #3D7B7B; font-style: italic } /* Comment */\n",
       ".output_html .err { border: 1px solid #FF0000 } /* Error */\n",
       ".output_html .k { color: #008000; font-weight: bold } /* Keyword */\n",
       ".output_html .o { color: #666666 } /* Operator */\n",
       ".output_html .ch { color: #3D7B7B; font-style: italic } /* Comment.Hashbang */\n",
       ".output_html .cm { color: #3D7B7B; font-style: italic } /* Comment.Multiline */\n",
       ".output_html .cp { color: #9C6500 } /* Comment.Preproc */\n",
       ".output_html .cpf { color: #3D7B7B; font-style: italic } /* Comment.PreprocFile */\n",
       ".output_html .c1 { color: #3D7B7B; font-style: italic } /* Comment.Single */\n",
       ".output_html .cs { color: #3D7B7B; font-style: italic } /* Comment.Special */\n",
       ".output_html .gd { color: #A00000 } /* Generic.Deleted */\n",
       ".output_html .ge { font-style: italic } /* Generic.Emph */\n",
       ".output_html .gr { color: #E40000 } /* Generic.Error */\n",
       ".output_html .gh { color: #000080; font-weight: bold } /* Generic.Heading */\n",
       ".output_html .gi { color: #008400 } /* Generic.Inserted */\n",
       ".output_html .go { color: #717171 } /* Generic.Output */\n",
       ".output_html .gp { color: #000080; font-weight: bold } /* Generic.Prompt */\n",
       ".output_html .gs { font-weight: bold } /* Generic.Strong */\n",
       ".output_html .gu { color: #800080; font-weight: bold } /* Generic.Subheading */\n",
       ".output_html .gt { color: #0044DD } /* Generic.Traceback */\n",
       ".output_html .kc { color: #008000; font-weight: bold } /* Keyword.Constant */\n",
       ".output_html .kd { color: #008000; font-weight: bold } /* Keyword.Declaration */\n",
       ".output_html .kn { color: #008000; font-weight: bold } /* Keyword.Namespace */\n",
       ".output_html .kp { color: #008000 } /* Keyword.Pseudo */\n",
       ".output_html .kr { color: #008000; font-weight: bold } /* Keyword.Reserved */\n",
       ".output_html .kt { color: #B00040 } /* Keyword.Type */\n",
       ".output_html .m { color: #666666 } /* Literal.Number */\n",
       ".output_html .s { color: #BA2121 } /* Literal.String */\n",
       ".output_html .na { color: #687822 } /* Name.Attribute */\n",
       ".output_html .nb { color: #008000 } /* Name.Builtin */\n",
       ".output_html .nc { color: #0000FF; font-weight: bold } /* Name.Class */\n",
       ".output_html .no { color: #880000 } /* Name.Constant */\n",
       ".output_html .nd { color: #AA22FF } /* Name.Decorator */\n",
       ".output_html .ni { color: #717171; font-weight: bold } /* Name.Entity */\n",
       ".output_html .ne { color: #CB3F38; font-weight: bold } /* Name.Exception */\n",
       ".output_html .nf { color: #0000FF } /* Name.Function */\n",
       ".output_html .nl { color: #767600 } /* Name.Label */\n",
       ".output_html .nn { color: #0000FF; font-weight: bold } /* Name.Namespace */\n",
       ".output_html .nt { color: #008000; font-weight: bold } /* Name.Tag */\n",
       ".output_html .nv { color: #19177C } /* Name.Variable */\n",
       ".output_html .ow { color: #AA22FF; font-weight: bold } /* Operator.Word */\n",
       ".output_html .w { color: #bbbbbb } /* Text.Whitespace */\n",
       ".output_html .mb { color: #666666 } /* Literal.Number.Bin */\n",
       ".output_html .mf { color: #666666 } /* Literal.Number.Float */\n",
       ".output_html .mh { color: #666666 } /* Literal.Number.Hex */\n",
       ".output_html .mi { color: #666666 } /* Literal.Number.Integer */\n",
       ".output_html .mo { color: #666666 } /* Literal.Number.Oct */\n",
       ".output_html .sa { color: #BA2121 } /* Literal.String.Affix */\n",
       ".output_html .sb { color: #BA2121 } /* Literal.String.Backtick */\n",
       ".output_html .sc { color: #BA2121 } /* Literal.String.Char */\n",
       ".output_html .dl { color: #BA2121 } /* Literal.String.Delimiter */\n",
       ".output_html .sd { color: #BA2121; font-style: italic } /* Literal.String.Doc */\n",
       ".output_html .s2 { color: #BA2121 } /* Literal.String.Double */\n",
       ".output_html .se { color: #AA5D1F; font-weight: bold } /* Literal.String.Escape */\n",
       ".output_html .sh { color: #BA2121 } /* Literal.String.Heredoc */\n",
       ".output_html .si { color: #A45A77; font-weight: bold } /* Literal.String.Interpol */\n",
       ".output_html .sx { color: #008000 } /* Literal.String.Other */\n",
       ".output_html .sr { color: #A45A77 } /* Literal.String.Regex */\n",
       ".output_html .s1 { color: #BA2121 } /* Literal.String.Single */\n",
       ".output_html .ss { color: #19177C } /* Literal.String.Symbol */\n",
       ".output_html .bp { color: #008000 } /* Name.Builtin.Pseudo */\n",
       ".output_html .fm { color: #0000FF } /* Name.Function.Magic */\n",
       ".output_html .vc { color: #19177C } /* Name.Variable.Class */\n",
       ".output_html .vg { color: #19177C } /* Name.Variable.Global */\n",
       ".output_html .vi { color: #19177C } /* Name.Variable.Instance */\n",
       ".output_html .vm { color: #19177C } /* Name.Variable.Magic */\n",
       ".output_html .il { color: #666666 } /* Literal.Number.Integer.Long */</style><div class=\"highlight\"><pre><span></span><span class=\"c1\">// ./programmer/madd_A.c:6-44 (39 lines)</span>\n",
       "<span class=\"kt\">int</span><span class=\"w\"> </span><span class=\"nf\">main</span><span class=\"p\">(</span><span class=\"kt\">int</span><span class=\"w\"> </span><span class=\"n\">argc</span><span class=\"p\">,</span><span class=\"w\"> </span><span class=\"kt\">char</span><span class=\"w\"> </span><span class=\"o\">**</span><span class=\"n\">argv</span><span class=\"p\">)</span><span class=\"w\"></span>\n",
       "<span class=\"p\">{</span><span class=\"w\"></span>\n",
       "<span class=\"w\">  </span><span class=\"kt\">int</span><span class=\"w\"> </span><span class=\"o\">**</span><span class=\"n\">a</span><span class=\"p\">,</span><span class=\"w\"> </span><span class=\"o\">**</span><span class=\"n\">b</span><span class=\"p\">,</span><span class=\"w\"> </span><span class=\"o\">**</span><span class=\"n\">c</span><span class=\"p\">,</span><span class=\"w\"> </span><span class=\"n\">i</span><span class=\"p\">,</span><span class=\"w\"> </span><span class=\"n\">j</span><span class=\"p\">,</span><span class=\"w\"> </span><span class=\"n\">k</span><span class=\"p\">;</span><span class=\"w\"></span>\n",
       "<span class=\"w\">  </span><span class=\"cm\">/* initialize a, b */</span><span class=\"w\"></span>\n",
       "<span class=\"w\">  </span><span class=\"k\">if</span><span class=\"p\">(</span><span class=\"n\">argc</span><span class=\"w\"> </span><span class=\"o\">&gt;=</span><span class=\"w\"> </span><span class=\"mi\">2</span><span class=\"p\">)</span><span class=\"w\"></span>\n",
       "<span class=\"w\">    </span><span class=\"n\">ARRAY_SIZE</span><span class=\"w\"> </span><span class=\"o\">=</span><span class=\"w\"> </span><span class=\"n\">atoi</span><span class=\"p\">(</span><span class=\"n\">argv</span><span class=\"p\">[</span><span class=\"mi\">1</span><span class=\"p\">]);</span><span class=\"w\"></span>\n",
       "<span class=\"w\">  </span><span class=\"n\">a</span><span class=\"w\"> </span><span class=\"o\">=</span><span class=\"w\"> </span><span class=\"p\">(</span><span class=\"kt\">int</span><span class=\"w\"> </span><span class=\"o\">**</span><span class=\"p\">)</span><span class=\"n\">malloc</span><span class=\"p\">(</span><span class=\"n\">ARRAY_SIZE</span><span class=\"o\">*</span><span class=\"k\">sizeof</span><span class=\"p\">(</span><span class=\"kt\">int</span><span class=\"w\"> </span><span class=\"o\">*</span><span class=\"p\">));</span><span class=\"w\"></span>\n",
       "<span class=\"w\">  </span><span class=\"k\">for</span><span class=\"p\">(</span><span class=\"n\">i</span><span class=\"w\"> </span><span class=\"o\">=</span><span class=\"w\"> </span><span class=\"mi\">0</span><span class=\"p\">;</span><span class=\"w\"> </span><span class=\"n\">i</span><span class=\"w\"> </span><span class=\"o\">&lt;</span><span class=\"w\"> </span><span class=\"n\">ARRAY_SIZE</span><span class=\"p\">;</span><span class=\"w\"> </span><span class=\"n\">i</span><span class=\"o\">++</span><span class=\"p\">)</span><span class=\"w\"></span>\n",
       "<span class=\"w\">  </span><span class=\"p\">{</span><span class=\"w\"></span>\n",
       "<span class=\"w\">    </span><span class=\"n\">a</span><span class=\"p\">[</span><span class=\"n\">i</span><span class=\"p\">]</span><span class=\"w\"> </span><span class=\"o\">=</span><span class=\"w\"> </span><span class=\"p\">(</span><span class=\"kt\">int</span><span class=\"w\"> </span><span class=\"o\">*</span><span class=\"p\">)</span><span class=\"n\">malloc</span><span class=\"p\">(</span><span class=\"n\">ARRAY_SIZE</span><span class=\"o\">*</span><span class=\"k\">sizeof</span><span class=\"p\">(</span><span class=\"kt\">int</span><span class=\"p\">));</span><span class=\"w\"></span>\n",
       "<span class=\"w\">    </span><span class=\"k\">for</span><span class=\"p\">(</span><span class=\"n\">j</span><span class=\"w\"> </span><span class=\"o\">=</span><span class=\"w\"> </span><span class=\"mi\">0</span><span class=\"p\">;</span><span class=\"w\"> </span><span class=\"n\">j</span><span class=\"w\"> </span><span class=\"o\">&lt;</span><span class=\"w\"> </span><span class=\"n\">ARRAY_SIZE</span><span class=\"p\">;</span><span class=\"w\"> </span><span class=\"n\">j</span><span class=\"o\">++</span><span class=\"p\">)</span><span class=\"w\"></span>\n",
       "<span class=\"w\">      </span><span class=\"n\">a</span><span class=\"p\">[</span><span class=\"n\">i</span><span class=\"p\">][</span><span class=\"n\">j</span><span class=\"p\">]</span><span class=\"w\"> </span><span class=\"o\">=</span><span class=\"w\"> </span><span class=\"p\">(</span><span class=\"n\">rand</span><span class=\"p\">()</span><span class=\"o\">%</span><span class=\"mi\">100</span><span class=\"p\">)</span><span class=\"o\">+</span><span class=\"mi\">1</span><span class=\"p\">;</span><span class=\"w\"></span>\n",
       "<span class=\"w\">  </span><span class=\"p\">}</span><span class=\"w\"></span>\n",
       "<span class=\"w\">  </span><span class=\"n\">b</span><span class=\"w\"> </span><span class=\"o\">=</span><span class=\"w\"> </span><span class=\"p\">(</span><span class=\"kt\">int</span><span class=\"w\"> </span><span class=\"o\">**</span><span class=\"p\">)</span><span class=\"n\">malloc</span><span class=\"p\">(</span><span class=\"n\">ARRAY_SIZE</span><span class=\"o\">*</span><span class=\"k\">sizeof</span><span class=\"p\">(</span><span class=\"kt\">int</span><span class=\"w\"> </span><span class=\"o\">*</span><span class=\"p\">));</span><span class=\"w\"></span>\n",
       "<span class=\"w\">  </span><span class=\"k\">for</span><span class=\"p\">(</span><span class=\"n\">i</span><span class=\"w\"> </span><span class=\"o\">=</span><span class=\"w\"> </span><span class=\"mi\">0</span><span class=\"p\">;</span><span class=\"w\"> </span><span class=\"n\">i</span><span class=\"w\"> </span><span class=\"o\">&lt;</span><span class=\"w\"> </span><span class=\"n\">ARRAY_SIZE</span><span class=\"p\">;</span><span class=\"w\"> </span><span class=\"n\">i</span><span class=\"o\">++</span><span class=\"p\">)</span><span class=\"w\"></span>\n",
       "<span class=\"w\">  </span><span class=\"p\">{</span><span class=\"w\"></span>\n",
       "<span class=\"w\">    </span><span class=\"n\">b</span><span class=\"p\">[</span><span class=\"n\">i</span><span class=\"p\">]</span><span class=\"w\"> </span><span class=\"o\">=</span><span class=\"w\"> </span><span class=\"p\">(</span><span class=\"kt\">int</span><span class=\"w\"> </span><span class=\"o\">*</span><span class=\"p\">)</span><span class=\"n\">malloc</span><span class=\"p\">(</span><span class=\"n\">ARRAY_SIZE</span><span class=\"o\">*</span><span class=\"k\">sizeof</span><span class=\"p\">(</span><span class=\"kt\">int</span><span class=\"p\">));</span><span class=\"w\"></span>\n",
       "<span class=\"w\">    </span><span class=\"k\">for</span><span class=\"p\">(</span><span class=\"n\">j</span><span class=\"w\"> </span><span class=\"o\">=</span><span class=\"w\"> </span><span class=\"mi\">0</span><span class=\"p\">;</span><span class=\"w\"> </span><span class=\"n\">j</span><span class=\"w\"> </span><span class=\"o\">&lt;</span><span class=\"w\"> </span><span class=\"n\">ARRAY_SIZE</span><span class=\"p\">;</span><span class=\"w\"> </span><span class=\"n\">j</span><span class=\"o\">++</span><span class=\"p\">)</span><span class=\"w\"></span>\n",
       "<span class=\"w\">      </span><span class=\"n\">b</span><span class=\"p\">[</span><span class=\"n\">i</span><span class=\"p\">][</span><span class=\"n\">j</span><span class=\"p\">]</span><span class=\"w\"> </span><span class=\"o\">=</span><span class=\"w\"> </span><span class=\"p\">(</span><span class=\"n\">rand</span><span class=\"p\">()</span><span class=\"o\">%</span><span class=\"mi\">100</span><span class=\"p\">)</span><span class=\"o\">+</span><span class=\"mi\">1</span><span class=\"p\">;</span><span class=\"w\"></span>\n",
       "<span class=\"w\">  </span><span class=\"p\">}</span><span class=\"w\"></span>\n",
       "<span class=\"w\">  </span><span class=\"n\">c</span><span class=\"w\"> </span><span class=\"o\">=</span><span class=\"w\"> </span><span class=\"p\">(</span><span class=\"kt\">int</span><span class=\"w\"> </span><span class=\"o\">**</span><span class=\"p\">)</span><span class=\"n\">malloc</span><span class=\"p\">(</span><span class=\"n\">ARRAY_SIZE</span><span class=\"o\">*</span><span class=\"k\">sizeof</span><span class=\"p\">(</span><span class=\"kt\">int</span><span class=\"w\"> </span><span class=\"o\">*</span><span class=\"p\">));</span><span class=\"w\"></span>\n",
       "<span class=\"w\">  </span><span class=\"k\">for</span><span class=\"p\">(</span><span class=\"n\">i</span><span class=\"w\"> </span><span class=\"o\">=</span><span class=\"w\"> </span><span class=\"mi\">0</span><span class=\"p\">;</span><span class=\"w\"> </span><span class=\"n\">i</span><span class=\"w\"> </span><span class=\"o\">&lt;</span><span class=\"w\"> </span><span class=\"n\">ARRAY_SIZE</span><span class=\"p\">;</span><span class=\"w\"> </span><span class=\"n\">i</span><span class=\"o\">++</span><span class=\"p\">)</span><span class=\"w\"></span>\n",
       "<span class=\"w\">  </span><span class=\"p\">{</span><span class=\"w\"></span>\n",
       "<span class=\"w\">    </span><span class=\"n\">c</span><span class=\"p\">[</span><span class=\"n\">i</span><span class=\"p\">]</span><span class=\"w\"> </span><span class=\"o\">=</span><span class=\"w\"> </span><span class=\"p\">(</span><span class=\"kt\">int</span><span class=\"w\"> </span><span class=\"o\">*</span><span class=\"p\">)</span><span class=\"n\">malloc</span><span class=\"p\">(</span><span class=\"n\">ARRAY_SIZE</span><span class=\"o\">*</span><span class=\"k\">sizeof</span><span class=\"p\">(</span><span class=\"kt\">int</span><span class=\"p\">));</span><span class=\"w\"></span>\n",
       "<span class=\"w\">    </span><span class=\"k\">for</span><span class=\"p\">(</span><span class=\"n\">j</span><span class=\"w\"> </span><span class=\"o\">=</span><span class=\"w\"> </span><span class=\"mi\">0</span><span class=\"p\">;</span><span class=\"w\"> </span><span class=\"n\">j</span><span class=\"w\"> </span><span class=\"o\">&lt;</span><span class=\"w\"> </span><span class=\"n\">ARRAY_SIZE</span><span class=\"p\">;</span><span class=\"w\"> </span><span class=\"n\">j</span><span class=\"o\">++</span><span class=\"p\">)</span><span class=\"w\"></span>\n",
       "<span class=\"w\">      </span><span class=\"n\">c</span><span class=\"p\">[</span><span class=\"n\">i</span><span class=\"p\">][</span><span class=\"n\">j</span><span class=\"p\">]</span><span class=\"w\"> </span><span class=\"o\">=</span><span class=\"w\"> </span><span class=\"mi\">0</span><span class=\"p\">;</span><span class=\"w\"></span>\n",
       "<span class=\"w\">  </span><span class=\"p\">}</span><span class=\"w\"></span>\n",
       "<span class=\"c1\">//  mm(a, b, c);</span>\n",
       "<span class=\"w\">  </span><span class=\"cm\">/* Do matrix addition */</span><span class=\"w\"></span>\n",
       "<span class=\"w\">    </span><span class=\"k\">for</span><span class=\"p\">(</span><span class=\"n\">i</span><span class=\"w\"> </span><span class=\"o\">=</span><span class=\"w\"> </span><span class=\"mi\">0</span><span class=\"p\">;</span><span class=\"w\"> </span><span class=\"n\">i</span><span class=\"w\"> </span><span class=\"o\">&lt;</span><span class=\"w\"> </span><span class=\"n\">ARRAY_SIZE</span><span class=\"p\">;</span><span class=\"w\"> </span><span class=\"n\">i</span><span class=\"o\">++</span><span class=\"p\">)</span><span class=\"w\"></span>\n",
       "<span class=\"w\">    </span><span class=\"p\">{</span><span class=\"w\"></span>\n",
       "<span class=\"w\">      </span><span class=\"k\">for</span><span class=\"p\">(</span><span class=\"n\">j</span><span class=\"w\"> </span><span class=\"o\">=</span><span class=\"w\"> </span><span class=\"mi\">0</span><span class=\"p\">;</span><span class=\"w\"> </span><span class=\"n\">j</span><span class=\"w\"> </span><span class=\"o\">&lt;</span><span class=\"w\"> </span><span class=\"n\">ARRAY_SIZE</span><span class=\"p\">;</span><span class=\"w\"> </span><span class=\"n\">j</span><span class=\"o\">++</span><span class=\"p\">)</span><span class=\"w\"></span>\n",
       "<span class=\"w\">      </span><span class=\"p\">{</span><span class=\"w\"></span>\n",
       "<span class=\"w\">        </span><span class=\"n\">c</span><span class=\"p\">[</span><span class=\"n\">i</span><span class=\"p\">][</span><span class=\"n\">j</span><span class=\"p\">]</span><span class=\"w\"> </span><span class=\"o\">=</span><span class=\"w\"> </span><span class=\"n\">a</span><span class=\"p\">[</span><span class=\"n\">i</span><span class=\"p\">][</span><span class=\"n\">j</span><span class=\"p\">]</span><span class=\"o\">+</span><span class=\"n\">b</span><span class=\"p\">[</span><span class=\"n\">i</span><span class=\"p\">][</span><span class=\"n\">j</span><span class=\"p\">];</span><span class=\"w\"></span>\n",
       "<span class=\"w\">      </span><span class=\"p\">}</span><span class=\"w\"></span>\n",
       "<span class=\"w\">    </span><span class=\"p\">}</span><span class=\"w\"></span>\n",
       "<span class=\"w\">  </span><span class=\"n\">printf</span><span class=\"p\">(</span><span class=\"s\">&quot;%d</span><span class=\"se\">\\n</span><span class=\"s\">&quot;</span><span class=\"p\">,</span><span class=\"n\">c</span><span class=\"p\">[</span><span class=\"n\">rand</span><span class=\"p\">()</span><span class=\"o\">%</span><span class=\"mi\">256</span><span class=\"p\">][</span><span class=\"n\">rand</span><span class=\"p\">()</span><span class=\"o\">%</span><span class=\"mi\">256</span><span class=\"p\">]);</span><span class=\"w\"></span>\n",
       "<span class=\"w\">  </span><span class=\"k\">return</span><span class=\"w\"> </span><span class=\"mi\">0</span><span class=\"p\">;</span><span class=\"w\"></span>\n",
       "<span class=\"p\">}</span><span class=\"w\"></span>\n",
       "</pre></div>\n",
       "</div><div class='side-by-side-pane'><style>pre { line-height: 125%; }\n",
       "td.linenos .normal { color: inherit; background-color: transparent; padding-left: 5px; padding-right: 5px; }\n",
       "span.linenos { color: inherit; background-color: transparent; padding-left: 5px; padding-right: 5px; }\n",
       "td.linenos .special { color: #000000; background-color: #ffffc0; padding-left: 5px; padding-right: 5px; }\n",
       "span.linenos.special { color: #000000; background-color: #ffffc0; padding-left: 5px; padding-right: 5px; }\n",
       ".output_html .hll { background-color: #ffffcc }\n",
       ".output_html { background: #f8f8f8; }\n",
       ".output_html .c { color: #3D7B7B; font-style: italic } /* Comment */\n",
       ".output_html .err { border: 1px solid #FF0000 } /* Error */\n",
       ".output_html .k { color: #008000; font-weight: bold } /* Keyword */\n",
       ".output_html .o { color: #666666 } /* Operator */\n",
       ".output_html .ch { color: #3D7B7B; font-style: italic } /* Comment.Hashbang */\n",
       ".output_html .cm { color: #3D7B7B; font-style: italic } /* Comment.Multiline */\n",
       ".output_html .cp { color: #9C6500 } /* Comment.Preproc */\n",
       ".output_html .cpf { color: #3D7B7B; font-style: italic } /* Comment.PreprocFile */\n",
       ".output_html .c1 { color: #3D7B7B; font-style: italic } /* Comment.Single */\n",
       ".output_html .cs { color: #3D7B7B; font-style: italic } /* Comment.Special */\n",
       ".output_html .gd { color: #A00000 } /* Generic.Deleted */\n",
       ".output_html .ge { font-style: italic } /* Generic.Emph */\n",
       ".output_html .gr { color: #E40000 } /* Generic.Error */\n",
       ".output_html .gh { color: #000080; font-weight: bold } /* Generic.Heading */\n",
       ".output_html .gi { color: #008400 } /* Generic.Inserted */\n",
       ".output_html .go { color: #717171 } /* Generic.Output */\n",
       ".output_html .gp { color: #000080; font-weight: bold } /* Generic.Prompt */\n",
       ".output_html .gs { font-weight: bold } /* Generic.Strong */\n",
       ".output_html .gu { color: #800080; font-weight: bold } /* Generic.Subheading */\n",
       ".output_html .gt { color: #0044DD } /* Generic.Traceback */\n",
       ".output_html .kc { color: #008000; font-weight: bold } /* Keyword.Constant */\n",
       ".output_html .kd { color: #008000; font-weight: bold } /* Keyword.Declaration */\n",
       ".output_html .kn { color: #008000; font-weight: bold } /* Keyword.Namespace */\n",
       ".output_html .kp { color: #008000 } /* Keyword.Pseudo */\n",
       ".output_html .kr { color: #008000; font-weight: bold } /* Keyword.Reserved */\n",
       ".output_html .kt { color: #B00040 } /* Keyword.Type */\n",
       ".output_html .m { color: #666666 } /* Literal.Number */\n",
       ".output_html .s { color: #BA2121 } /* Literal.String */\n",
       ".output_html .na { color: #687822 } /* Name.Attribute */\n",
       ".output_html .nb { color: #008000 } /* Name.Builtin */\n",
       ".output_html .nc { color: #0000FF; font-weight: bold } /* Name.Class */\n",
       ".output_html .no { color: #880000 } /* Name.Constant */\n",
       ".output_html .nd { color: #AA22FF } /* Name.Decorator */\n",
       ".output_html .ni { color: #717171; font-weight: bold } /* Name.Entity */\n",
       ".output_html .ne { color: #CB3F38; font-weight: bold } /* Name.Exception */\n",
       ".output_html .nf { color: #0000FF } /* Name.Function */\n",
       ".output_html .nl { color: #767600 } /* Name.Label */\n",
       ".output_html .nn { color: #0000FF; font-weight: bold } /* Name.Namespace */\n",
       ".output_html .nt { color: #008000; font-weight: bold } /* Name.Tag */\n",
       ".output_html .nv { color: #19177C } /* Name.Variable */\n",
       ".output_html .ow { color: #AA22FF; font-weight: bold } /* Operator.Word */\n",
       ".output_html .w { color: #bbbbbb } /* Text.Whitespace */\n",
       ".output_html .mb { color: #666666 } /* Literal.Number.Bin */\n",
       ".output_html .mf { color: #666666 } /* Literal.Number.Float */\n",
       ".output_html .mh { color: #666666 } /* Literal.Number.Hex */\n",
       ".output_html .mi { color: #666666 } /* Literal.Number.Integer */\n",
       ".output_html .mo { color: #666666 } /* Literal.Number.Oct */\n",
       ".output_html .sa { color: #BA2121 } /* Literal.String.Affix */\n",
       ".output_html .sb { color: #BA2121 } /* Literal.String.Backtick */\n",
       ".output_html .sc { color: #BA2121 } /* Literal.String.Char */\n",
       ".output_html .dl { color: #BA2121 } /* Literal.String.Delimiter */\n",
       ".output_html .sd { color: #BA2121; font-style: italic } /* Literal.String.Doc */\n",
       ".output_html .s2 { color: #BA2121 } /* Literal.String.Double */\n",
       ".output_html .se { color: #AA5D1F; font-weight: bold } /* Literal.String.Escape */\n",
       ".output_html .sh { color: #BA2121 } /* Literal.String.Heredoc */\n",
       ".output_html .si { color: #A45A77; font-weight: bold } /* Literal.String.Interpol */\n",
       ".output_html .sx { color: #008000 } /* Literal.String.Other */\n",
       ".output_html .sr { color: #A45A77 } /* Literal.String.Regex */\n",
       ".output_html .s1 { color: #BA2121 } /* Literal.String.Single */\n",
       ".output_html .ss { color: #19177C } /* Literal.String.Symbol */\n",
       ".output_html .bp { color: #008000 } /* Name.Builtin.Pseudo */\n",
       ".output_html .fm { color: #0000FF } /* Name.Function.Magic */\n",
       ".output_html .vc { color: #19177C } /* Name.Variable.Class */\n",
       ".output_html .vg { color: #19177C } /* Name.Variable.Global */\n",
       ".output_html .vi { color: #19177C } /* Name.Variable.Instance */\n",
       ".output_html .vm { color: #19177C } /* Name.Variable.Magic */\n",
       ".output_html .il { color: #666666 } /* Literal.Number.Integer.Long */</style><div class=\"highlight\"><pre><span></span><span class=\"c1\">// ./programmer/madd_B.c:6-44 (39 lines)</span>\n",
       "<span class=\"kt\">int</span><span class=\"w\"> </span><span class=\"nf\">main</span><span class=\"p\">(</span><span class=\"kt\">int</span><span class=\"w\"> </span><span class=\"n\">argc</span><span class=\"p\">,</span><span class=\"w\"> </span><span class=\"kt\">char</span><span class=\"w\"> </span><span class=\"o\">**</span><span class=\"n\">argv</span><span class=\"p\">)</span><span class=\"w\"></span>\n",
       "<span class=\"p\">{</span><span class=\"w\"></span>\n",
       "<span class=\"w\">  </span><span class=\"kt\">int</span><span class=\"w\"> </span><span class=\"o\">**</span><span class=\"n\">a</span><span class=\"p\">,</span><span class=\"w\"> </span><span class=\"o\">**</span><span class=\"n\">b</span><span class=\"p\">,</span><span class=\"w\"> </span><span class=\"o\">**</span><span class=\"n\">c</span><span class=\"p\">,</span><span class=\"w\"> </span><span class=\"n\">i</span><span class=\"p\">,</span><span class=\"w\"> </span><span class=\"n\">j</span><span class=\"p\">,</span><span class=\"w\"> </span><span class=\"n\">k</span><span class=\"p\">;</span><span class=\"w\"></span>\n",
       "<span class=\"w\">  </span><span class=\"cm\">/* initialize a, b */</span><span class=\"w\"></span>\n",
       "<span class=\"w\">  </span><span class=\"k\">if</span><span class=\"p\">(</span><span class=\"n\">argc</span><span class=\"w\"> </span><span class=\"o\">&gt;=</span><span class=\"w\"> </span><span class=\"mi\">2</span><span class=\"p\">)</span><span class=\"w\"></span>\n",
       "<span class=\"w\">    </span><span class=\"n\">ARRAY_SIZE</span><span class=\"w\"> </span><span class=\"o\">=</span><span class=\"w\"> </span><span class=\"n\">atoi</span><span class=\"p\">(</span><span class=\"n\">argv</span><span class=\"p\">[</span><span class=\"mi\">1</span><span class=\"p\">]);</span><span class=\"w\"></span>\n",
       "<span class=\"w\">  </span><span class=\"n\">a</span><span class=\"w\"> </span><span class=\"o\">=</span><span class=\"w\"> </span><span class=\"p\">(</span><span class=\"kt\">int</span><span class=\"w\"> </span><span class=\"o\">**</span><span class=\"p\">)</span><span class=\"n\">malloc</span><span class=\"p\">(</span><span class=\"n\">ARRAY_SIZE</span><span class=\"o\">*</span><span class=\"k\">sizeof</span><span class=\"p\">(</span><span class=\"kt\">int</span><span class=\"w\"> </span><span class=\"o\">*</span><span class=\"p\">));</span><span class=\"w\"></span>\n",
       "<span class=\"w\">  </span><span class=\"k\">for</span><span class=\"p\">(</span><span class=\"n\">i</span><span class=\"w\"> </span><span class=\"o\">=</span><span class=\"w\"> </span><span class=\"mi\">0</span><span class=\"p\">;</span><span class=\"w\"> </span><span class=\"n\">i</span><span class=\"w\"> </span><span class=\"o\">&lt;</span><span class=\"w\"> </span><span class=\"n\">ARRAY_SIZE</span><span class=\"p\">;</span><span class=\"w\"> </span><span class=\"n\">i</span><span class=\"o\">++</span><span class=\"p\">)</span><span class=\"w\"></span>\n",
       "<span class=\"w\">  </span><span class=\"p\">{</span><span class=\"w\"></span>\n",
       "<span class=\"w\">    </span><span class=\"n\">a</span><span class=\"p\">[</span><span class=\"n\">i</span><span class=\"p\">]</span><span class=\"w\"> </span><span class=\"o\">=</span><span class=\"w\"> </span><span class=\"p\">(</span><span class=\"kt\">int</span><span class=\"w\"> </span><span class=\"o\">*</span><span class=\"p\">)</span><span class=\"n\">malloc</span><span class=\"p\">(</span><span class=\"n\">ARRAY_SIZE</span><span class=\"o\">*</span><span class=\"k\">sizeof</span><span class=\"p\">(</span><span class=\"kt\">int</span><span class=\"p\">));</span><span class=\"w\"></span>\n",
       "<span class=\"w\">    </span><span class=\"k\">for</span><span class=\"p\">(</span><span class=\"n\">j</span><span class=\"w\"> </span><span class=\"o\">=</span><span class=\"w\"> </span><span class=\"mi\">0</span><span class=\"p\">;</span><span class=\"w\"> </span><span class=\"n\">j</span><span class=\"w\"> </span><span class=\"o\">&lt;</span><span class=\"w\"> </span><span class=\"n\">ARRAY_SIZE</span><span class=\"p\">;</span><span class=\"w\"> </span><span class=\"n\">j</span><span class=\"o\">++</span><span class=\"p\">)</span><span class=\"w\"></span>\n",
       "<span class=\"w\">      </span><span class=\"n\">a</span><span class=\"p\">[</span><span class=\"n\">i</span><span class=\"p\">][</span><span class=\"n\">j</span><span class=\"p\">]</span><span class=\"w\"> </span><span class=\"o\">=</span><span class=\"w\"> </span><span class=\"p\">(</span><span class=\"n\">rand</span><span class=\"p\">()</span><span class=\"o\">%</span><span class=\"mi\">100</span><span class=\"p\">)</span><span class=\"o\">+</span><span class=\"mi\">1</span><span class=\"p\">;</span><span class=\"w\"></span>\n",
       "<span class=\"w\">  </span><span class=\"p\">}</span><span class=\"w\"></span>\n",
       "<span class=\"w\">  </span><span class=\"n\">b</span><span class=\"w\"> </span><span class=\"o\">=</span><span class=\"w\"> </span><span class=\"p\">(</span><span class=\"kt\">int</span><span class=\"w\"> </span><span class=\"o\">**</span><span class=\"p\">)</span><span class=\"n\">malloc</span><span class=\"p\">(</span><span class=\"n\">ARRAY_SIZE</span><span class=\"o\">*</span><span class=\"k\">sizeof</span><span class=\"p\">(</span><span class=\"kt\">int</span><span class=\"w\"> </span><span class=\"o\">*</span><span class=\"p\">));</span><span class=\"w\"></span>\n",
       "<span class=\"w\">  </span><span class=\"k\">for</span><span class=\"p\">(</span><span class=\"n\">i</span><span class=\"w\"> </span><span class=\"o\">=</span><span class=\"w\"> </span><span class=\"mi\">0</span><span class=\"p\">;</span><span class=\"w\"> </span><span class=\"n\">i</span><span class=\"w\"> </span><span class=\"o\">&lt;</span><span class=\"w\"> </span><span class=\"n\">ARRAY_SIZE</span><span class=\"p\">;</span><span class=\"w\"> </span><span class=\"n\">i</span><span class=\"o\">++</span><span class=\"p\">)</span><span class=\"w\"></span>\n",
       "<span class=\"w\">  </span><span class=\"p\">{</span><span class=\"w\"></span>\n",
       "<span class=\"w\">    </span><span class=\"n\">b</span><span class=\"p\">[</span><span class=\"n\">i</span><span class=\"p\">]</span><span class=\"w\"> </span><span class=\"o\">=</span><span class=\"w\"> </span><span class=\"p\">(</span><span class=\"kt\">int</span><span class=\"w\"> </span><span class=\"o\">*</span><span class=\"p\">)</span><span class=\"n\">malloc</span><span class=\"p\">(</span><span class=\"n\">ARRAY_SIZE</span><span class=\"o\">*</span><span class=\"k\">sizeof</span><span class=\"p\">(</span><span class=\"kt\">int</span><span class=\"p\">));</span><span class=\"w\"></span>\n",
       "<span class=\"w\">    </span><span class=\"k\">for</span><span class=\"p\">(</span><span class=\"n\">j</span><span class=\"w\"> </span><span class=\"o\">=</span><span class=\"w\"> </span><span class=\"mi\">0</span><span class=\"p\">;</span><span class=\"w\"> </span><span class=\"n\">j</span><span class=\"w\"> </span><span class=\"o\">&lt;</span><span class=\"w\"> </span><span class=\"n\">ARRAY_SIZE</span><span class=\"p\">;</span><span class=\"w\"> </span><span class=\"n\">j</span><span class=\"o\">++</span><span class=\"p\">)</span><span class=\"w\"></span>\n",
       "<span class=\"w\">      </span><span class=\"n\">b</span><span class=\"p\">[</span><span class=\"n\">i</span><span class=\"p\">][</span><span class=\"n\">j</span><span class=\"p\">]</span><span class=\"w\"> </span><span class=\"o\">=</span><span class=\"w\"> </span><span class=\"p\">(</span><span class=\"n\">rand</span><span class=\"p\">()</span><span class=\"o\">%</span><span class=\"mi\">100</span><span class=\"p\">)</span><span class=\"o\">+</span><span class=\"mi\">1</span><span class=\"p\">;</span><span class=\"w\"></span>\n",
       "<span class=\"w\">  </span><span class=\"p\">}</span><span class=\"w\"></span>\n",
       "<span class=\"w\">  </span><span class=\"n\">c</span><span class=\"w\"> </span><span class=\"o\">=</span><span class=\"w\"> </span><span class=\"p\">(</span><span class=\"kt\">int</span><span class=\"w\"> </span><span class=\"o\">**</span><span class=\"p\">)</span><span class=\"n\">malloc</span><span class=\"p\">(</span><span class=\"n\">ARRAY_SIZE</span><span class=\"o\">*</span><span class=\"k\">sizeof</span><span class=\"p\">(</span><span class=\"kt\">int</span><span class=\"w\"> </span><span class=\"o\">*</span><span class=\"p\">));</span><span class=\"w\"></span>\n",
       "<span class=\"w\">  </span><span class=\"k\">for</span><span class=\"p\">(</span><span class=\"n\">i</span><span class=\"w\"> </span><span class=\"o\">=</span><span class=\"w\"> </span><span class=\"mi\">0</span><span class=\"p\">;</span><span class=\"w\"> </span><span class=\"n\">i</span><span class=\"w\"> </span><span class=\"o\">&lt;</span><span class=\"w\"> </span><span class=\"n\">ARRAY_SIZE</span><span class=\"p\">;</span><span class=\"w\"> </span><span class=\"n\">i</span><span class=\"o\">++</span><span class=\"p\">)</span><span class=\"w\"></span>\n",
       "<span class=\"w\">  </span><span class=\"p\">{</span><span class=\"w\"></span>\n",
       "<span class=\"w\">    </span><span class=\"n\">c</span><span class=\"p\">[</span><span class=\"n\">i</span><span class=\"p\">]</span><span class=\"w\"> </span><span class=\"o\">=</span><span class=\"w\"> </span><span class=\"p\">(</span><span class=\"kt\">int</span><span class=\"w\"> </span><span class=\"o\">*</span><span class=\"p\">)</span><span class=\"n\">malloc</span><span class=\"p\">(</span><span class=\"n\">ARRAY_SIZE</span><span class=\"o\">*</span><span class=\"k\">sizeof</span><span class=\"p\">(</span><span class=\"kt\">int</span><span class=\"p\">));</span><span class=\"w\"></span>\n",
       "<span class=\"w\">    </span><span class=\"k\">for</span><span class=\"p\">(</span><span class=\"n\">j</span><span class=\"w\"> </span><span class=\"o\">=</span><span class=\"w\"> </span><span class=\"mi\">0</span><span class=\"p\">;</span><span class=\"w\"> </span><span class=\"n\">j</span><span class=\"w\"> </span><span class=\"o\">&lt;</span><span class=\"w\"> </span><span class=\"n\">ARRAY_SIZE</span><span class=\"p\">;</span><span class=\"w\"> </span><span class=\"n\">j</span><span class=\"o\">++</span><span class=\"p\">)</span><span class=\"w\"></span>\n",
       "<span class=\"w\">      </span><span class=\"n\">c</span><span class=\"p\">[</span><span class=\"n\">i</span><span class=\"p\">][</span><span class=\"n\">j</span><span class=\"p\">]</span><span class=\"w\"> </span><span class=\"o\">=</span><span class=\"w\"> </span><span class=\"mi\">0</span><span class=\"p\">;</span><span class=\"w\"></span>\n",
       "<span class=\"w\">  </span><span class=\"p\">}</span><span class=\"w\"></span>\n",
       "<span class=\"c1\">//  mm(a, b, c);</span>\n",
       "<span class=\"w\">  </span><span class=\"cm\">/* Do matrix addition */</span><span class=\"w\"></span>\n",
       "<span class=\"w\">    </span><span class=\"k\">for</span><span class=\"p\">(</span><span class=\"n\">j</span><span class=\"w\"> </span><span class=\"o\">=</span><span class=\"w\"> </span><span class=\"mi\">0</span><span class=\"p\">;</span><span class=\"w\"> </span><span class=\"n\">j</span><span class=\"w\"> </span><span class=\"o\">&lt;</span><span class=\"w\"> </span><span class=\"n\">ARRAY_SIZE</span><span class=\"p\">;</span><span class=\"w\"> </span><span class=\"n\">j</span><span class=\"o\">++</span><span class=\"p\">)</span><span class=\"w\"></span>\n",
       "<span class=\"w\">    </span><span class=\"p\">{</span><span class=\"w\"></span>\n",
       "<span class=\"w\">      </span><span class=\"k\">for</span><span class=\"p\">(</span><span class=\"n\">i</span><span class=\"w\"> </span><span class=\"o\">=</span><span class=\"w\"> </span><span class=\"mi\">0</span><span class=\"p\">;</span><span class=\"w\"> </span><span class=\"n\">i</span><span class=\"w\"> </span><span class=\"o\">&lt;</span><span class=\"w\"> </span><span class=\"n\">ARRAY_SIZE</span><span class=\"p\">;</span><span class=\"w\"> </span><span class=\"n\">i</span><span class=\"o\">++</span><span class=\"p\">)</span><span class=\"w\"></span>\n",
       "<span class=\"w\">      </span><span class=\"p\">{</span><span class=\"w\"></span>\n",
       "<span class=\"w\">        </span><span class=\"n\">c</span><span class=\"p\">[</span><span class=\"n\">i</span><span class=\"p\">][</span><span class=\"n\">j</span><span class=\"p\">]</span><span class=\"w\"> </span><span class=\"o\">=</span><span class=\"w\"> </span><span class=\"n\">a</span><span class=\"p\">[</span><span class=\"n\">i</span><span class=\"p\">][</span><span class=\"n\">j</span><span class=\"p\">]</span><span class=\"o\">+</span><span class=\"n\">b</span><span class=\"p\">[</span><span class=\"n\">i</span><span class=\"p\">][</span><span class=\"n\">j</span><span class=\"p\">];</span><span class=\"w\"></span>\n",
       "<span class=\"w\">      </span><span class=\"p\">}</span><span class=\"w\"></span>\n",
       "<span class=\"w\">    </span><span class=\"p\">}</span><span class=\"w\"></span>\n",
       "<span class=\"w\">  </span><span class=\"n\">printf</span><span class=\"p\">(</span><span class=\"s\">&quot;%d</span><span class=\"se\">\\n</span><span class=\"s\">&quot;</span><span class=\"p\">,</span><span class=\"n\">c</span><span class=\"p\">[</span><span class=\"n\">rand</span><span class=\"p\">()</span><span class=\"o\">%</span><span class=\"mi\">256</span><span class=\"p\">][</span><span class=\"n\">rand</span><span class=\"p\">()</span><span class=\"o\">%</span><span class=\"mi\">256</span><span class=\"p\">]);</span><span class=\"w\"></span>\n",
       "<span class=\"w\">  </span><span class=\"k\">return</span><span class=\"w\"> </span><span class=\"mi\">0</span><span class=\"p\">;</span><span class=\"w\"></span>\n",
       "<span class=\"p\">}</span><span class=\"w\"></span>\n",
       "</pre></div>\n",
       "</div>\n",
       "        </div>\n",
       "    "
      ],
      "text/plain": [
       "<IPython.core.display.HTML object>"
      ]
     },
     "execution_count": 22,
     "metadata": {},
     "output_type": "execute_result"
    }
   ],
   "source": [
    "compare([do_render_code(\"./programmer/madd_A.c\", lang=\"c++\", show=\"main\"),\n",
    "do_render_code(\"./programmer/madd_B.c\", lang=\"c++\", show=\"main\")])"
   ]
  },
  {
   "cell_type": "code",
   "execution_count": 23,
   "id": "324683b1-9d23-4adc-8715-e6ceacb6e32c",
   "metadata": {},
   "outputs": [
    {
     "name": "stdout",
     "output_type": "stream",
     "text": [
      "rm -f madd_A madd_B madd_change_freq *_O3 *~\n",
      "#hotspot hotspot_omp\n",
      "cc -O0 -DHAVE_LINUX_PERF_EVENT_H -g  madd_A.c -o madd_A\n",
      "cc -O0 -DHAVE_LINUX_PERF_EVENT_H -g  madd_B.c -o madd_B\n",
      "cc -DHAVE_LINUX_PERF_EVENT_H -g -O3  madd_A.c -o madd_A_O3\n",
      "cc -DHAVE_LINUX_PERF_EVENT_H -g -O3  madd_B.c -o madd_B_O3\n",
      "cc -O3 -DHAVE_LINUX_PERF_EVENT_H -g -DA madd_change_freq.c perfstats.o -o madd_change_freq\n",
      "\u001b[01m\u001b[Kmadd_change_freq.c:\u001b[m\u001b[K In function ‘\u001b[01m\u001b[Kmain\u001b[m\u001b[K’:\n",
      "\u001b[01m\u001b[Kmadd_change_freq.c:18:3:\u001b[m\u001b[K \u001b[01;35m\u001b[Kwarning: \u001b[m\u001b[Kimplicit declaration of function ‘\u001b[01m\u001b[Kchange_cpufrequnecy\u001b[m\u001b[K’ [\u001b[01;35m\u001b[K-Wimplicit-function-declaration\u001b[m\u001b[K]\n",
      "   18 |   \u001b[01;35m\u001b[Kchange_cpufrequnecy\u001b[m\u001b[K(freq);\n",
      "      |   \u001b[01;35m\u001b[K^~~~~~~~~~~~~~~~~~~\u001b[m\u001b[K\n",
      "\u001b[01m\u001b[Kmadd_change_freq.c:49:3:\u001b[m\u001b[K \u001b[01;35m\u001b[Kwarning: \u001b[m\u001b[Kimplicit declaration of function ‘\u001b[01m\u001b[Krestore_cpufrequnecy\u001b[m\u001b[K’ [\u001b[01;35m\u001b[K-Wimplicit-function-declaration\u001b[m\u001b[K]\n",
      "   49 |   \u001b[01;35m\u001b[Krestore_cpufrequnecy\u001b[m\u001b[K();\n",
      "      |   \u001b[01;35m\u001b[K^~~~~~~~~~~~~~~~~~~~\u001b[m\u001b[K\n",
      "running version A\n",
      "161\n",
      "\n",
      " Performance counter stats for './programmer/madd_A':\n",
      "\n",
      "            806.14 msec task-clock                #    0.997 CPUs utilized          \n",
      "                 4      context-switches          #    4.962 /sec                   \n",
      "                 1      cpu-migrations            #    1.240 /sec                   \n",
      "           196,804      page-faults               #  244.131 K/sec                  \n",
      "     4,151,710,371      cycles                    #    5.150 GHz                    \n",
      "    16,490,315,232      instructions              #    3.97  insn per cycle         \n",
      "     2,555,436,830      branches                  #    3.170 G/sec                  \n",
      "         4,565,883      branch-misses             #    0.18% of all branches        \n",
      "\n",
      "       0.808535355 seconds time elapsed\n",
      "\n",
      "       0.655018000 seconds user\n",
      "       0.151772000 seconds sys\n",
      "\n",
      "\n",
      "running version B\n",
      "161\n",
      "\n",
      " Performance counter stats for './programmer/madd_B':\n",
      "\n",
      "          1,277.89 msec task-clock                #    0.998 CPUs utilized          \n",
      "                 4      context-switches          #    3.130 /sec                   \n",
      "                 1      cpu-migrations            #    0.783 /sec                   \n",
      "           196,803      page-faults               #  154.006 K/sec                  \n",
      "     6,605,276,967      cycles                    #    5.169 GHz                    \n",
      "    16,491,195,041      instructions              #    2.50  insn per cycle         \n",
      "     2,555,594,263      branches                  #    2.000 G/sec                  \n",
      "         4,561,364      branch-misses             #    0.18% of all branches        \n",
      "\n",
      "       1.279876768 seconds time elapsed\n",
      "\n",
      "       1.141876000 seconds user\n",
      "       0.136223000 seconds sys\n",
      "\n",
      "\n"
     ]
    }
   ],
   "source": [
    "! cd programmer; make clean; make\n",
    "! echo \"running version A\"; perf stat ./programmer/madd_A\n",
    "! echo \"running version B\"; perf stat ./programmer/madd_B"
   ]
  },
  {
   "cell_type": "code",
   "execution_count": null,
   "id": "8c622ed2-cc13-4d5c-a00f-d8d7b48b9e8a",
   "metadata": {},
   "outputs": [],
   "source": [
    "! lscpu"
   ]
  },
  {
   "cell_type": "markdown",
   "id": "3fb43434-f2a1-43d6-9214-2f148477666f",
   "metadata": {
    "jp-MarkdownHeadingCollapsed": true,
    "tags": []
   },
   "source": [
    "<div class=\"alert alert-block alert-info\">\n",
    "    \n",
    "### Question:\n",
    "\n",
    "What does the programmer affect?\n",
    "    \n",
    "</div>"
   ]
  },
  {
   "cell_type": "code",
   "execution_count": 24,
   "id": "f31a0834-a08e-454e-be38-45426edcf1e2",
   "metadata": {},
   "outputs": [
    {
     "data": {
      "text/html": [
       "\n",
       "            <style>\n",
       "        .side-by-side {\n",
       "            display: flex;\n",
       "            align-items: stretch;\n",
       "\n",
       "        }\n",
       "        .side-by-side-pane {\n",
       "            margin-right:1em;\n",
       "            border-right-style: solid;\n",
       "            border-right-color: black;\n",
       "            border-right-width: 1px;\n",
       "            flex: 1;\n",
       "        }\n",
       "        </style>\n",
       "        <div class=\"side-by-side\"> <div class='side-by-side-pane'><style>pre { line-height: 125%; }\n",
       "td.linenos .normal { color: inherit; background-color: transparent; padding-left: 5px; padding-right: 5px; }\n",
       "span.linenos { color: inherit; background-color: transparent; padding-left: 5px; padding-right: 5px; }\n",
       "td.linenos .special { color: #000000; background-color: #ffffc0; padding-left: 5px; padding-right: 5px; }\n",
       "span.linenos.special { color: #000000; background-color: #ffffc0; padding-left: 5px; padding-right: 5px; }\n",
       ".output_html .hll { background-color: #ffffcc }\n",
       ".output_html { background: #f8f8f8; }\n",
       ".output_html .c { color: #3D7B7B; font-style: italic } /* Comment */\n",
       ".output_html .err { border: 1px solid #FF0000 } /* Error */\n",
       ".output_html .k { color: #008000; font-weight: bold } /* Keyword */\n",
       ".output_html .o { color: #666666 } /* Operator */\n",
       ".output_html .ch { color: #3D7B7B; font-style: italic } /* Comment.Hashbang */\n",
       ".output_html .cm { color: #3D7B7B; font-style: italic } /* Comment.Multiline */\n",
       ".output_html .cp { color: #9C6500 } /* Comment.Preproc */\n",
       ".output_html .cpf { color: #3D7B7B; font-style: italic } /* Comment.PreprocFile */\n",
       ".output_html .c1 { color: #3D7B7B; font-style: italic } /* Comment.Single */\n",
       ".output_html .cs { color: #3D7B7B; font-style: italic } /* Comment.Special */\n",
       ".output_html .gd { color: #A00000 } /* Generic.Deleted */\n",
       ".output_html .ge { font-style: italic } /* Generic.Emph */\n",
       ".output_html .gr { color: #E40000 } /* Generic.Error */\n",
       ".output_html .gh { color: #000080; font-weight: bold } /* Generic.Heading */\n",
       ".output_html .gi { color: #008400 } /* Generic.Inserted */\n",
       ".output_html .go { color: #717171 } /* Generic.Output */\n",
       ".output_html .gp { color: #000080; font-weight: bold } /* Generic.Prompt */\n",
       ".output_html .gs { font-weight: bold } /* Generic.Strong */\n",
       ".output_html .gu { color: #800080; font-weight: bold } /* Generic.Subheading */\n",
       ".output_html .gt { color: #0044DD } /* Generic.Traceback */\n",
       ".output_html .kc { color: #008000; font-weight: bold } /* Keyword.Constant */\n",
       ".output_html .kd { color: #008000; font-weight: bold } /* Keyword.Declaration */\n",
       ".output_html .kn { color: #008000; font-weight: bold } /* Keyword.Namespace */\n",
       ".output_html .kp { color: #008000 } /* Keyword.Pseudo */\n",
       ".output_html .kr { color: #008000; font-weight: bold } /* Keyword.Reserved */\n",
       ".output_html .kt { color: #B00040 } /* Keyword.Type */\n",
       ".output_html .m { color: #666666 } /* Literal.Number */\n",
       ".output_html .s { color: #BA2121 } /* Literal.String */\n",
       ".output_html .na { color: #687822 } /* Name.Attribute */\n",
       ".output_html .nb { color: #008000 } /* Name.Builtin */\n",
       ".output_html .nc { color: #0000FF; font-weight: bold } /* Name.Class */\n",
       ".output_html .no { color: #880000 } /* Name.Constant */\n",
       ".output_html .nd { color: #AA22FF } /* Name.Decorator */\n",
       ".output_html .ni { color: #717171; font-weight: bold } /* Name.Entity */\n",
       ".output_html .ne { color: #CB3F38; font-weight: bold } /* Name.Exception */\n",
       ".output_html .nf { color: #0000FF } /* Name.Function */\n",
       ".output_html .nl { color: #767600 } /* Name.Label */\n",
       ".output_html .nn { color: #0000FF; font-weight: bold } /* Name.Namespace */\n",
       ".output_html .nt { color: #008000; font-weight: bold } /* Name.Tag */\n",
       ".output_html .nv { color: #19177C } /* Name.Variable */\n",
       ".output_html .ow { color: #AA22FF; font-weight: bold } /* Operator.Word */\n",
       ".output_html .w { color: #bbbbbb } /* Text.Whitespace */\n",
       ".output_html .mb { color: #666666 } /* Literal.Number.Bin */\n",
       ".output_html .mf { color: #666666 } /* Literal.Number.Float */\n",
       ".output_html .mh { color: #666666 } /* Literal.Number.Hex */\n",
       ".output_html .mi { color: #666666 } /* Literal.Number.Integer */\n",
       ".output_html .mo { color: #666666 } /* Literal.Number.Oct */\n",
       ".output_html .sa { color: #BA2121 } /* Literal.String.Affix */\n",
       ".output_html .sb { color: #BA2121 } /* Literal.String.Backtick */\n",
       ".output_html .sc { color: #BA2121 } /* Literal.String.Char */\n",
       ".output_html .dl { color: #BA2121 } /* Literal.String.Delimiter */\n",
       ".output_html .sd { color: #BA2121; font-style: italic } /* Literal.String.Doc */\n",
       ".output_html .s2 { color: #BA2121 } /* Literal.String.Double */\n",
       ".output_html .se { color: #AA5D1F; font-weight: bold } /* Literal.String.Escape */\n",
       ".output_html .sh { color: #BA2121 } /* Literal.String.Heredoc */\n",
       ".output_html .si { color: #A45A77; font-weight: bold } /* Literal.String.Interpol */\n",
       ".output_html .sx { color: #008000 } /* Literal.String.Other */\n",
       ".output_html .sr { color: #A45A77 } /* Literal.String.Regex */\n",
       ".output_html .s1 { color: #BA2121 } /* Literal.String.Single */\n",
       ".output_html .ss { color: #19177C } /* Literal.String.Symbol */\n",
       ".output_html .bp { color: #008000 } /* Name.Builtin.Pseudo */\n",
       ".output_html .fm { color: #0000FF } /* Name.Function.Magic */\n",
       ".output_html .vc { color: #19177C } /* Name.Variable.Class */\n",
       ".output_html .vg { color: #19177C } /* Name.Variable.Global */\n",
       ".output_html .vi { color: #19177C } /* Name.Variable.Instance */\n",
       ".output_html .vm { color: #19177C } /* Name.Variable.Magic */\n",
       ".output_html .il { color: #666666 } /* Literal.Number.Integer.Long */</style><div class=\"highlight\"><pre><span></span><span class=\"c1\">// ../intro/arraySort.cpp:15-36 (22 lines)</span>\n",
       "<span class=\"kt\">int</span><span class=\"w\"> </span><span class=\"nf\">main</span><span class=\"p\">(</span><span class=\"kt\">int</span><span class=\"w\"> </span><span class=\"n\">argc</span><span class=\"p\">,</span><span class=\"w\"> </span><span class=\"kt\">char</span><span class=\"w\"> </span><span class=\"o\">**</span><span class=\"n\">argv</span><span class=\"p\">)</span><span class=\"w\"></span>\n",
       "<span class=\"p\">{</span><span class=\"w\"></span>\n",
       "<span class=\"w\">    </span><span class=\"c1\">// generate data</span>\n",
       "<span class=\"c1\">//    const unsigned arraySize = 262144;</span>\n",
       "<span class=\"w\">    </span><span class=\"kt\">int</span><span class=\"w\"> </span><span class=\"n\">arraySize</span><span class=\"w\"> </span><span class=\"o\">=</span><span class=\"w\"> </span><span class=\"n\">atoi</span><span class=\"p\">(</span><span class=\"n\">argv</span><span class=\"p\">[</span><span class=\"mi\">1</span><span class=\"p\">]);</span><span class=\"w\"></span>\n",
       "<span class=\"w\">    </span><span class=\"kt\">int</span><span class=\"w\"> </span><span class=\"n\">data</span><span class=\"p\">[</span><span class=\"n\">arraySize</span><span class=\"p\">];</span><span class=\"w\"></span>\n",
       "<span class=\"w\">    </span><span class=\"kt\">long</span><span class=\"w\"> </span><span class=\"kt\">long</span><span class=\"w\"> </span><span class=\"n\">sum</span><span class=\"w\"> </span><span class=\"o\">=</span><span class=\"w\"> </span><span class=\"mi\">0</span><span class=\"p\">;</span><span class=\"w\"></span>\n",
       "\n",
       "<span class=\"w\">    </span><span class=\"kt\">int</span><span class=\"w\"> </span><span class=\"n\">iterations</span><span class=\"w\"> </span><span class=\"o\">=</span><span class=\"w\"> </span><span class=\"n\">atoi</span><span class=\"p\">(</span><span class=\"n\">argv</span><span class=\"p\">[</span><span class=\"mi\">2</span><span class=\"p\">]);</span><span class=\"w\"></span>\n",
       "<span class=\"w\">    </span><span class=\"kt\">int</span><span class=\"w\"> </span><span class=\"n\">option</span><span class=\"w\"> </span><span class=\"o\">=</span><span class=\"w\"> </span><span class=\"n\">atoi</span><span class=\"p\">(</span><span class=\"n\">argv</span><span class=\"p\">[</span><span class=\"mi\">3</span><span class=\"p\">]);</span><span class=\"w\"></span>\n",
       "\n",
       "<span class=\"w\">    </span><span class=\"k\">for</span><span class=\"w\"> </span><span class=\"p\">(</span><span class=\"kt\">unsigned</span><span class=\"w\"> </span><span class=\"n\">c</span><span class=\"w\"> </span><span class=\"o\">=</span><span class=\"w\"> </span><span class=\"mi\">0</span><span class=\"p\">;</span><span class=\"w\"> </span><span class=\"n\">c</span><span class=\"w\"> </span><span class=\"o\">&lt;</span><span class=\"w\"> </span><span class=\"n\">arraySize</span><span class=\"p\">;</span><span class=\"w\"> </span><span class=\"o\">++</span><span class=\"n\">c</span><span class=\"p\">)</span><span class=\"w\"></span>\n",
       "<span class=\"w\">        </span><span class=\"n\">data</span><span class=\"p\">[</span><span class=\"n\">c</span><span class=\"p\">]</span><span class=\"w\"> </span><span class=\"o\">=</span><span class=\"w\"> </span><span class=\"n\">std</span><span class=\"o\">::</span><span class=\"n\">rand</span><span class=\"p\">();</span><span class=\"w\"></span>\n",
       "\n",
       "<span class=\"w\">    </span><span class=\"k\">if</span><span class=\"p\">(</span><span class=\"n\">option</span><span class=\"p\">)</span><span class=\"w\"></span>\n",
       "<span class=\"w\">        </span><span class=\"n\">std</span><span class=\"o\">::</span><span class=\"n\">sort</span><span class=\"p\">(</span><span class=\"n\">data</span><span class=\"p\">,</span><span class=\"w\"> </span><span class=\"n\">data</span><span class=\"w\"> </span><span class=\"o\">+</span><span class=\"w\"> </span><span class=\"n\">arraySize</span><span class=\"p\">);</span><span class=\"w\"></span>\n",
       "\n",
       "<span class=\"w\">    </span><span class=\"k\">for</span><span class=\"w\"> </span><span class=\"p\">(</span><span class=\"kt\">unsigned</span><span class=\"w\"> </span><span class=\"n\">i</span><span class=\"w\"> </span><span class=\"o\">=</span><span class=\"w\"> </span><span class=\"mi\">0</span><span class=\"p\">;</span><span class=\"w\"> </span><span class=\"n\">i</span><span class=\"w\"> </span><span class=\"o\">&lt;</span><span class=\"w\"> </span><span class=\"n\">iterations</span><span class=\"p\">;</span><span class=\"w\"> </span><span class=\"o\">++</span><span class=\"n\">i</span><span class=\"p\">)</span><span class=\"w\"> </span><span class=\"p\">{</span><span class=\"w\"></span>\n",
       "<span class=\"w\">        </span><span class=\"n\">sum</span><span class=\"w\"> </span><span class=\"o\">+=</span><span class=\"w\"> </span><span class=\"n\">calculate_sum</span><span class=\"p\">(</span><span class=\"n\">data</span><span class=\"p\">,</span><span class=\"w\"> </span><span class=\"n\">arraySize</span><span class=\"p\">,</span><span class=\"w\"> </span><span class=\"n\">std</span><span class=\"o\">::</span><span class=\"n\">rand</span><span class=\"p\">());</span><span class=\"w\"></span>\n",
       "<span class=\"w\">    </span><span class=\"p\">}</span><span class=\"w\"></span>\n",
       "<span class=\"w\">    </span><span class=\"n\">std</span><span class=\"o\">::</span><span class=\"n\">cout</span><span class=\"w\"> </span><span class=\"o\">&lt;&lt;</span><span class=\"w\"> </span><span class=\"s\">&quot;sum = &quot;</span><span class=\"w\"> </span><span class=\"o\">&lt;&lt;</span><span class=\"w\"> </span><span class=\"n\">sum</span><span class=\"w\"> </span><span class=\"o\">&lt;&lt;</span><span class=\"w\"> </span><span class=\"n\">std</span><span class=\"o\">::</span><span class=\"n\">endl</span><span class=\"p\">;</span><span class=\"w\"></span>\n",
       "<span class=\"p\">}</span><span class=\"w\"></span>\n",
       "</pre></div>\n",
       "</div><div class='side-by-side-pane'><style>pre { line-height: 125%; }\n",
       "td.linenos .normal { color: inherit; background-color: transparent; padding-left: 5px; padding-right: 5px; }\n",
       "span.linenos { color: inherit; background-color: transparent; padding-left: 5px; padding-right: 5px; }\n",
       "td.linenos .special { color: #000000; background-color: #ffffc0; padding-left: 5px; padding-right: 5px; }\n",
       "span.linenos.special { color: #000000; background-color: #ffffc0; padding-left: 5px; padding-right: 5px; }\n",
       ".output_html .hll { background-color: #ffffcc }\n",
       ".output_html { background: #f8f8f8; }\n",
       ".output_html .c { color: #3D7B7B; font-style: italic } /* Comment */\n",
       ".output_html .err { border: 1px solid #FF0000 } /* Error */\n",
       ".output_html .k { color: #008000; font-weight: bold } /* Keyword */\n",
       ".output_html .o { color: #666666 } /* Operator */\n",
       ".output_html .ch { color: #3D7B7B; font-style: italic } /* Comment.Hashbang */\n",
       ".output_html .cm { color: #3D7B7B; font-style: italic } /* Comment.Multiline */\n",
       ".output_html .cp { color: #9C6500 } /* Comment.Preproc */\n",
       ".output_html .cpf { color: #3D7B7B; font-style: italic } /* Comment.PreprocFile */\n",
       ".output_html .c1 { color: #3D7B7B; font-style: italic } /* Comment.Single */\n",
       ".output_html .cs { color: #3D7B7B; font-style: italic } /* Comment.Special */\n",
       ".output_html .gd { color: #A00000 } /* Generic.Deleted */\n",
       ".output_html .ge { font-style: italic } /* Generic.Emph */\n",
       ".output_html .gr { color: #E40000 } /* Generic.Error */\n",
       ".output_html .gh { color: #000080; font-weight: bold } /* Generic.Heading */\n",
       ".output_html .gi { color: #008400 } /* Generic.Inserted */\n",
       ".output_html .go { color: #717171 } /* Generic.Output */\n",
       ".output_html .gp { color: #000080; font-weight: bold } /* Generic.Prompt */\n",
       ".output_html .gs { font-weight: bold } /* Generic.Strong */\n",
       ".output_html .gu { color: #800080; font-weight: bold } /* Generic.Subheading */\n",
       ".output_html .gt { color: #0044DD } /* Generic.Traceback */\n",
       ".output_html .kc { color: #008000; font-weight: bold } /* Keyword.Constant */\n",
       ".output_html .kd { color: #008000; font-weight: bold } /* Keyword.Declaration */\n",
       ".output_html .kn { color: #008000; font-weight: bold } /* Keyword.Namespace */\n",
       ".output_html .kp { color: #008000 } /* Keyword.Pseudo */\n",
       ".output_html .kr { color: #008000; font-weight: bold } /* Keyword.Reserved */\n",
       ".output_html .kt { color: #B00040 } /* Keyword.Type */\n",
       ".output_html .m { color: #666666 } /* Literal.Number */\n",
       ".output_html .s { color: #BA2121 } /* Literal.String */\n",
       ".output_html .na { color: #687822 } /* Name.Attribute */\n",
       ".output_html .nb { color: #008000 } /* Name.Builtin */\n",
       ".output_html .nc { color: #0000FF; font-weight: bold } /* Name.Class */\n",
       ".output_html .no { color: #880000 } /* Name.Constant */\n",
       ".output_html .nd { color: #AA22FF } /* Name.Decorator */\n",
       ".output_html .ni { color: #717171; font-weight: bold } /* Name.Entity */\n",
       ".output_html .ne { color: #CB3F38; font-weight: bold } /* Name.Exception */\n",
       ".output_html .nf { color: #0000FF } /* Name.Function */\n",
       ".output_html .nl { color: #767600 } /* Name.Label */\n",
       ".output_html .nn { color: #0000FF; font-weight: bold } /* Name.Namespace */\n",
       ".output_html .nt { color: #008000; font-weight: bold } /* Name.Tag */\n",
       ".output_html .nv { color: #19177C } /* Name.Variable */\n",
       ".output_html .ow { color: #AA22FF; font-weight: bold } /* Operator.Word */\n",
       ".output_html .w { color: #bbbbbb } /* Text.Whitespace */\n",
       ".output_html .mb { color: #666666 } /* Literal.Number.Bin */\n",
       ".output_html .mf { color: #666666 } /* Literal.Number.Float */\n",
       ".output_html .mh { color: #666666 } /* Literal.Number.Hex */\n",
       ".output_html .mi { color: #666666 } /* Literal.Number.Integer */\n",
       ".output_html .mo { color: #666666 } /* Literal.Number.Oct */\n",
       ".output_html .sa { color: #BA2121 } /* Literal.String.Affix */\n",
       ".output_html .sb { color: #BA2121 } /* Literal.String.Backtick */\n",
       ".output_html .sc { color: #BA2121 } /* Literal.String.Char */\n",
       ".output_html .dl { color: #BA2121 } /* Literal.String.Delimiter */\n",
       ".output_html .sd { color: #BA2121; font-style: italic } /* Literal.String.Doc */\n",
       ".output_html .s2 { color: #BA2121 } /* Literal.String.Double */\n",
       ".output_html .se { color: #AA5D1F; font-weight: bold } /* Literal.String.Escape */\n",
       ".output_html .sh { color: #BA2121 } /* Literal.String.Heredoc */\n",
       ".output_html .si { color: #A45A77; font-weight: bold } /* Literal.String.Interpol */\n",
       ".output_html .sx { color: #008000 } /* Literal.String.Other */\n",
       ".output_html .sr { color: #A45A77 } /* Literal.String.Regex */\n",
       ".output_html .s1 { color: #BA2121 } /* Literal.String.Single */\n",
       ".output_html .ss { color: #19177C } /* Literal.String.Symbol */\n",
       ".output_html .bp { color: #008000 } /* Name.Builtin.Pseudo */\n",
       ".output_html .fm { color: #0000FF } /* Name.Function.Magic */\n",
       ".output_html .vc { color: #19177C } /* Name.Variable.Class */\n",
       ".output_html .vg { color: #19177C } /* Name.Variable.Global */\n",
       ".output_html .vi { color: #19177C } /* Name.Variable.Instance */\n",
       ".output_html .vm { color: #19177C } /* Name.Variable.Magic */\n",
       ".output_html .il { color: #666666 } /* Literal.Number.Integer.Long */</style><div class=\"highlight\"><pre><span></span><span class=\"c1\">// ../intro/calculate_sum.c:4-12 (9 lines)</span>\n",
       "<span class=\"kt\">long</span><span class=\"w\"> </span><span class=\"kt\">long</span><span class=\"w\"> </span><span class=\"nf\">calculate_sum</span><span class=\"p\">(</span><span class=\"kt\">int</span><span class=\"w\"> </span><span class=\"o\">*</span><span class=\"n\">data</span><span class=\"p\">,</span><span class=\"w\"> </span><span class=\"kt\">unsigned</span><span class=\"w\"> </span><span class=\"kt\">int</span><span class=\"w\"> </span><span class=\"n\">size</span><span class=\"p\">,</span><span class=\"w\"> </span><span class=\"kt\">int</span><span class=\"w\"> </span><span class=\"n\">threshold</span><span class=\"p\">)</span><span class=\"w\"></span>\n",
       "<span class=\"p\">{</span><span class=\"w\"></span>\n",
       "<span class=\"w\">    </span><span class=\"kt\">long</span><span class=\"w\"> </span><span class=\"kt\">long</span><span class=\"w\"> </span><span class=\"n\">sum</span><span class=\"o\">=</span><span class=\"mi\">0</span><span class=\"p\">;</span><span class=\"w\"></span>\n",
       "<span class=\"w\">    </span><span class=\"k\">for</span><span class=\"w\"> </span><span class=\"p\">(</span><span class=\"kt\">unsigned</span><span class=\"w\"> </span><span class=\"n\">i</span><span class=\"w\"> </span><span class=\"o\">=</span><span class=\"w\"> </span><span class=\"mi\">0</span><span class=\"p\">;</span><span class=\"w\"> </span><span class=\"n\">i</span><span class=\"w\"> </span><span class=\"o\">&lt;</span><span class=\"w\"> </span><span class=\"n\">size</span><span class=\"p\">;</span><span class=\"w\"> </span><span class=\"o\">++</span><span class=\"n\">i</span><span class=\"p\">)</span><span class=\"w\"> </span><span class=\"p\">{</span><span class=\"w\"></span>\n",
       "<span class=\"w\">        </span><span class=\"k\">if</span><span class=\"w\"> </span><span class=\"p\">(</span><span class=\"n\">data</span><span class=\"p\">[</span><span class=\"n\">i</span><span class=\"p\">]</span><span class=\"w\"> </span><span class=\"o\">&gt;=</span><span class=\"w\"> </span><span class=\"n\">threshold</span><span class=\"p\">)</span><span class=\"w\"></span>\n",
       "<span class=\"w\">                </span><span class=\"n\">sum</span><span class=\"w\"> </span><span class=\"o\">++</span><span class=\"p\">;</span><span class=\"w\"></span>\n",
       "<span class=\"w\">    </span><span class=\"p\">}</span><span class=\"w\"></span>\n",
       "<span class=\"w\">    </span><span class=\"k\">return</span><span class=\"w\"> </span><span class=\"n\">sum</span><span class=\"p\">;</span><span class=\"w\"></span>\n",
       "<span class=\"p\">}</span><span class=\"w\"></span>\n",
       "</pre></div>\n",
       "</div>\n",
       "        </div>\n",
       "    "
      ],
      "text/plain": [
       "<IPython.core.display.HTML object>"
      ]
     },
     "execution_count": 24,
     "metadata": {},
     "output_type": "execute_result"
    }
   ],
   "source": [
    "compare([do_render_code(\"../intro/arraySort.cpp\",lang=\"c++\", show=\"main\"),do_render_code(\"../intro/calculate_sum.c\",lang=\"c++\", show=\"calculate_sum\")])"
   ]
  },
  {
   "cell_type": "code",
   "execution_count": 25,
   "id": "f962b0aa-0efd-4da7-9832-19ed917620c7",
   "metadata": {},
   "outputs": [
    {
     "name": "stdout",
     "output_type": "stream",
     "text": [
      "rm -f madd arraySort bitonic quicksort arraySortO3\n",
      "gcc madd.c -o madd \n",
      "gcc calculate_sum.c -c \n",
      "g++ -O0 arraySort.cpp calculate_sum.o -o arraySort\n",
      "/usr/local/cuda/bin/nvcc -O3 bitonic.cu -o bitonic\n",
      "/usr/local/cuda/bin/nvcc -O3 quicksort.cu -o quicksort\n",
      "gcc -O3 calculate_sum.c -c -o calculate_sum_O3.o\n",
      "g++ -O3 arraySort.cpp calculate_sum_O3.o -o arraySortO3\n",
      "not sorting\n",
      "sum = 127161197\n",
      "\n",
      " Performance counter stats for './arraySort 262144 1000 0':\n",
      "\n",
      "            570.40 msec task-clock                #    0.994 CPUs utilized          \n",
      "                 5      context-switches          #    8.766 /sec                   \n",
      "                 0      cpu-migrations            #    0.000 /sec                   \n",
      "               376      page-faults               #  659.184 /sec                   \n",
      "     2,939,009,336      cycles                    #    5.153 GHz                    \n",
      "     3,035,354,093      instructions              #    1.03  insn per cycle         \n",
      "       530,041,646      branches                  #  929.242 M/sec                  \n",
      "        67,156,673      branch-misses             # \u001b[35m  12.67%\u001b[m of all branches        \n",
      "\n",
      "       0.573675796 seconds time elapsed\n",
      "\n",
      "       0.566972000 seconds user\n",
      "       0.003992000 seconds sys\n",
      "\n",
      "\n",
      "sorting\n",
      "sum = 127161197\n",
      "\n",
      " Performance counter stats for './arraySort 262144 1000 1':\n",
      "\n",
      "            160.29 msec task-clock                #    0.991 CPUs utilized          \n",
      "                 4      context-switches          #   24.954 /sec                   \n",
      "                 1      cpu-migrations            #    6.239 /sec                   \n",
      "               377      page-faults               #    2.352 K/sec                  \n",
      "       818,704,342      cycles                    #    5.108 GHz                    \n",
      "     3,265,605,901      instructions              #    3.99  insn per cycle         \n",
      "       566,980,972      branches                  #    3.537 G/sec                  \n",
      "         1,979,740      branch-misses             #    0.35% of all branches        \n",
      "\n",
      "       0.161744705 seconds time elapsed\n",
      "\n",
      "       0.160452000 seconds user\n",
      "       0.000000000 seconds sys\n",
      "\n",
      "\n"
     ]
    }
   ],
   "source": [
    "! cd ../intro/; make clean; make; echo \"not sorting\"; perf stat ./arraySort 262144 1000 0; echo \"sorting\"; perf stat  ./arraySort 262144 1000 1"
   ]
  },
  {
   "cell_type": "markdown",
   "id": "97ecf570-3b40-44d8-ad77-c5099779863a",
   "metadata": {
    "jp-MarkdownHeadingCollapsed": true,
    "tags": []
   },
   "source": [
    "<div class=\"alert alert-block alert-info\">\n",
    "    \n",
    "### Question:\n",
    "\n",
    "What does the programmer affect?\n",
    "    \n",
    "</div>"
   ]
  },
  {
   "cell_type": "code",
   "execution_count": null,
   "id": "1ec0d477-b44c-4875-9ce1-636912bb2308",
   "metadata": {},
   "outputs": [],
   "source": [
    "render_code(\"./programmer/perfstats.c\", lang=\"c++\", show=\"change_cpufrequnecy\")"
   ]
  },
  {
   "cell_type": "code",
   "execution_count": null,
   "id": "15a0b812-4213-4839-bfcd-0719c3fa5ef0",
   "metadata": {},
   "outputs": [],
   "source": [
    "!cs203 job run 'cpupower frequency-info -n'"
   ]
  },
  {
   "cell_type": "code",
   "execution_count": null,
   "id": "f11174ed-7869-4a3e-bf0e-fa19b576eb85",
   "metadata": {},
   "outputs": [],
   "source": [
    "! cs203 job run \"cat /proc/cpuinfo|grep MHz\""
   ]
  },
  {
   "cell_type": "code",
   "execution_count": null,
   "id": "70ed1330-f42c-4c31-999c-df9709c1af5c",
   "metadata": {},
   "outputs": [],
   "source": [
    "! cs203 job run \"perf stat ./programmer/madd_change_freq 8192 1400\"\n",
    "! cs203 job run \"perf stat ./programmer/madd_change_freq 8192 3600\""
   ]
  },
  {
   "cell_type": "markdown",
   "id": "eb798955-c31c-4261-ad4b-0fdfc09c6552",
   "metadata": {},
   "source": [
    "## How programming languages affects performance?\n",
    "\n",
    "### Python\n",
    "    "
   ]
  },
  {
   "cell_type": "code",
   "execution_count": null,
   "id": "01bcec1a-a964-4f90-bdae-d224aaebf83e",
   "metadata": {},
   "outputs": [],
   "source": [
    "render_code(\"./programming_languages/hello.py\")"
   ]
  },
  {
   "cell_type": "code",
   "execution_count": null,
   "id": "49f73d1f-2c22-4146-9d59-1078152e8e74",
   "metadata": {},
   "outputs": [],
   "source": [
    "!perf stat python ./programming_languages/hello.py"
   ]
  },
  {
   "cell_type": "markdown",
   "id": "f591d25b-03a8-433f-b0fe-4c52da356f93",
   "metadata": {},
   "source": [
    "### Perl"
   ]
  },
  {
   "cell_type": "code",
   "execution_count": null,
   "id": "25bfbae3-177f-426e-b2b7-008434515a79",
   "metadata": {},
   "outputs": [],
   "source": [
    "render_code(\"./programming_languages/hello.pl\")"
   ]
  },
  {
   "cell_type": "code",
   "execution_count": null,
   "id": "665a54a0-8366-43cb-b2de-989b0c6a913d",
   "metadata": {},
   "outputs": [],
   "source": [
    "! perf stat ./programming_languages/hello.pl"
   ]
  },
  {
   "cell_type": "markdown",
   "id": "9c5266ce-dd44-416a-b650-816830fe86d2",
   "metadata": {},
   "source": [
    "### Java"
   ]
  },
  {
   "cell_type": "code",
   "execution_count": null,
   "id": "c2cc191b-ab84-4f46-9ae4-9d986b113a04",
   "metadata": {},
   "outputs": [],
   "source": [
    "render_code(\"./programming_languages/HelloWorld.java\")"
   ]
  },
  {
   "cell_type": "code",
   "execution_count": null,
   "id": "ceb67b36-1c3f-48a8-9f12-65290943755b",
   "metadata": {},
   "outputs": [],
   "source": [
    "! cd ./programming_languages/; javac HelloWorld.java\n",
    "! cd ./programming_languages/; perf stat java HelloWorld"
   ]
  },
  {
   "cell_type": "markdown",
   "id": "fe4f93dc-3a36-469b-960d-32e0f2c399af",
   "metadata": {},
   "source": [
    "### Go"
   ]
  },
  {
   "cell_type": "code",
   "execution_count": null,
   "id": "f4ad7449-bab8-44b3-b4ea-9fb56b621485",
   "metadata": {},
   "outputs": [],
   "source": [
    "render_code(\"./programming_languages/hello-world.go\")"
   ]
  },
  {
   "cell_type": "code",
   "execution_count": null,
   "id": "6db3687b-34ec-4487-91bc-fb4dfa357e85",
   "metadata": {},
   "outputs": [],
   "source": [
    "! perf stat /usr/local/go/bin/go run ./programming_languages/hello-world.go"
   ]
  },
  {
   "cell_type": "code",
   "execution_count": null,
   "id": "579e5a44-733b-46a5-947e-e1c04b47063c",
   "metadata": {},
   "outputs": [],
   "source": [
    "!/usr/local/go/bin/go build ./programming_languages/hello-world.go\n",
    "! perf stat ./hello-world"
   ]
  },
  {
   "cell_type": "markdown",
   "id": "aa81685a-38c6-4c7d-a533-ba370277ae32",
   "metadata": {},
   "source": [
    "### C++"
   ]
  },
  {
   "cell_type": "code",
   "execution_count": null,
   "id": "bef0c235-79c0-43f6-89f9-095fb69576dd",
   "metadata": {},
   "outputs": [],
   "source": [
    "render_code(\"./programming_languages/hello.cpp\")"
   ]
  },
  {
   "cell_type": "code",
   "execution_count": null,
   "id": "20c78803-ba08-497a-9d35-c4526c4c159e",
   "metadata": {},
   "outputs": [],
   "source": [
    "! g++ -O4 ./programming_languages/hello.cpp -o ./programming_languages/hello_cpp\n",
    "! perf stat ./programming_languages/hello_cpp"
   ]
  },
  {
   "cell_type": "markdown",
   "id": "676af4de-9aae-4d21-bb1d-32d3731dd103",
   "metadata": {},
   "source": [
    "### C"
   ]
  },
  {
   "cell_type": "code",
   "execution_count": null,
   "id": "622f450f-3638-4685-9aac-80230e333de8",
   "metadata": {},
   "outputs": [],
   "source": [
    "render_code(\"./programming_languages/hello.c\")"
   ]
  },
  {
   "cell_type": "code",
   "execution_count": null,
   "id": "975e0d00-01d6-4b49-827c-6c5c3b26b4e7",
   "metadata": {},
   "outputs": [],
   "source": [
    "! gcc -O4 ./programming_languages/hello.c -o ./programming_languages/hello_c\n",
    "! perf stat ./programming_languages/hello_c"
   ]
  },
  {
   "cell_type": "markdown",
   "id": "06bc71f1-7505-439b-bb98-6648d886231e",
   "metadata": {},
   "source": [
    "## Compiler"
   ]
  },
  {
   "cell_type": "code",
   "execution_count": null,
   "id": "cfb2a524-e1e0-4f6f-9001-89e0522e26d3",
   "metadata": {},
   "outputs": [],
   "source": [
    "! cd programmer; make clean; make madd_A\n",
    "! echo \"running version A (Unoptimized)\"; time ./programmer/madd_A"
   ]
  },
  {
   "cell_type": "code",
   "execution_count": null,
   "id": "592b6c09-1564-405d-a17f-79215cd4d0f0",
   "metadata": {},
   "outputs": [],
   "source": [
    "! cd programmer; make clean; make madd_B\n",
    "! echo \"running version B (Unoptimized)\"; time ./programmer/madd_B"
   ]
  },
  {
   "cell_type": "code",
   "execution_count": null,
   "id": "4cff57a6-13db-4a6b-a2fd-26fe47246648",
   "metadata": {},
   "outputs": [],
   "source": [
    "! cd programmer; make madd_A_O3\n",
    "! echo \"running version A (Optimized)\"; time ./programmer/madd_A_O3"
   ]
  },
  {
   "cell_type": "code",
   "execution_count": null,
   "id": "af40c763-2df9-46e9-9a9a-7787c038dedc",
   "metadata": {},
   "outputs": [],
   "source": [
    "! cd programmer; make madd_B_O3\n",
    "! echo \"running version B (Optimized)\"; time ./programmer/madd_B_O3"
   ]
  },
  {
   "cell_type": "markdown",
   "id": "832b15a6-d96d-4143-be19-be530bb51a73",
   "metadata": {
    "jp-MarkdownHeadingCollapsed": true,
    "tags": []
   },
   "source": [
    "<div class=\"alert alert-block alert-info\">\n",
    "    \n",
    "### Question:\n",
    "\n",
    "What's the limitation of compiler?\n",
    "    \n",
    "</div>"
   ]
  }
 ],
 "metadata": {
  "kernelspec": {
   "display_name": "Python 3 (ipykernel)",
   "language": "python",
   "name": "python3"
  },
  "language_info": {
   "codemirror_mode": {
    "name": "ipython",
    "version": 3
   },
   "file_extension": ".py",
   "mimetype": "text/x-python",
   "name": "python",
   "nbconvert_exporter": "python",
   "pygments_lexer": "ipython3",
   "version": "3.8.10"
  },
  "widgets": {
   "application/vnd.jupyter.widget-state+json": {
    "state": {},
    "version_major": 2,
    "version_minor": 0
   }
  }
 },
 "nbformat": 4,
 "nbformat_minor": 5
}
