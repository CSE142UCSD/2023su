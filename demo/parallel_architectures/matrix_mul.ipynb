{
 "cells": [
  {
   "cell_type": "code",
   "execution_count": 19,
   "id": "39bd05fd-cae3-4bed-9b16-0114306cfc72",
   "metadata": {
    "editable": false,
    "init_cell": true,
    "tags": []
   },
   "outputs": [
    {
     "data": {
      "text/html": [
       "<style>h1 {font-size: 2vw;} h2 {font-size: 1.5vw;} p {font-size: 1.4vw;} div.prompt, code, output, prompt, kbd, pre, samp {font-family: 'SF Mono', 'Courier New', Courier, monospace, sans-serif !important;font-size: 1.4vw !important;}</style>"
      ],
      "text/plain": [
       "<IPython.core.display.HTML object>"
      ]
     },
     "metadata": {},
     "output_type": "display_data"
    },
    {
     "name": "stdout",
     "output_type": "stream",
     "text": [
      "The autoreload extension is already loaded. To reload it, use:\n",
      "  %reload_ext autoreload\n"
     ]
    }
   ],
   "source": [
    "# Please execute/shift-return this cell everytime you run the notebook.  Don't edit it. \n",
    "%load_ext autoreload\n",
    "%autoreload 2\n",
    "from notebook import * "
   ]
  },
  {
   "cell_type": "code",
   "execution_count": 20,
   "id": "4f12910a-544d-471a-b25c-d2f1cdf45f5d",
   "metadata": {},
   "outputs": [
    {
     "name": "stdout",
     "output_type": "stream",
     "text": [
      "800 MHz\n",
      "--------------------------------------------------------------------------------\n",
      "CPU name:\tIntel(R) Xeon(R) Silver 4108 CPU @ 1.80GHz\n",
      "CPU type:\tIntel Skylake SP processor\n",
      "CPU clock:\t1.80 GHz\n",
      "--------------------------------------------------------------------------------\n",
      "Sleeping longer as likwid_sleep() called without prior initialization\n",
      "Sleeping longer as likwid_sleep() called without prior initialization\n",
      "Result: 32000010811\n",
      "--------------------------------------------------------------------------------\n",
      "Group 1: ENERGY\n",
      "+-----------------------+---------+----------+--------+--------+--------+--------+--------+--------+---------+----------+--------+---------+---------+---------+---------+---------+---------+---------+---------+---------+---------+---------+---------+---------+---------+-------------+---------+---------+---------+---------+---------+---------+---------+\n",
      "|         Event         | Counter |  Core 0  | Core 1 | Core 2 | Core 3 | Core 4 | Core 5 | Core 6 |  Core 7 |  Core 8  | Core 9 | Core 10 | Core 11 | Core 12 | Core 13 | Core 14 | Core 15 | Core 16 | Core 17 | Core 18 | Core 19 | Core 20 | Core 21 | Core 22 | Core 23 |   Core 24   | Core 25 | Core 26 | Core 27 | Core 28 | Core 29 | Core 30 | Core 31 |\n",
      "+-----------------------+---------+----------+--------+--------+--------+--------+--------+--------+---------+----------+--------+---------+---------+---------+---------+---------+---------+---------+---------+---------+---------+---------+---------+---------+---------+-------------+---------+---------+---------+---------+---------+---------+---------+\n",
      "|   INSTR_RETIRED_ANY   |  FIXC0  |     4832 |      0 |      0 |   5141 |      0 |      0 |      0 | 1139131 |   412952 |  25086 |   20692 |   79250 |   47889 |  310854 |       0 |  650825 |    6627 |       0 |       0 |       0 |     226 |       0 | 1446053 |  137060 | 22002269550 |       0 |       0 |   95490 |       0 |       0 |       0 | 2057641 |\n",
      "| CPU_CLK_UNHALTED_CORE |  FIXC1  |    28304 |      0 |      0 |  23317 |      0 |      0 |      0 | 2818895 |   521264 |  83629 |   55182 |  105219 |  170497 |  583726 |       0 | 1138932 |   44052 |       0 |       0 |       0 |    2718 |       0 | 1458901 |  208644 |  8875593732 |       0 |       0 |  442341 |       0 |       0 |       0 | 1877391 |\n",
      "|  CPU_CLK_UNHALTED_REF |  FIXC2  |    63720 |      0 |      0 |  52560 |      0 |      0 |      0 | 6343344 |  1172808 | 188208 |  124272 |  236736 |  383616 | 1313208 |       0 | 2563416 |   99144 |       0 |       0 |       0 |    6120 |       0 | 3282624 |  469296 | 19970033400 |       0 |       0 |  994680 |       0 |       0 |       0 | 4223520 |\n",
      "|       TEMP_CORE       |   TMP0  |       26 |     26 |     25 |     25 |     26 |     25 |     25 |      27 |       19 |     18 |      18 |      19 |      19 |      17 |      19 |      19 |      26 |      26 |      25 |      25 |      25 |      25 |      25 |      27 |          20 |      18 |      18 |      19 |      19 |      17 |      19 |      19 |\n",
      "|     PWR_PKG_ENERGY    |   PWR0  | 198.0131 |      0 |      0 |      0 |      0 |      0 |      0 |       0 | 211.9130 |      0 |       0 |       0 |       0 |       0 |       0 |       0 |       0 |       0 |       0 |       0 |       0 |       0 |       0 |       0 |           0 |       0 |       0 |       0 |       0 |       0 |       0 |       0 |\n",
      "|     PWR_PP0_ENERGY    |   PWR1  |        0 |      0 |      0 |      0 |      0 |      0 |      0 |       0 |        0 |      0 |       0 |       0 |       0 |       0 |       0 |       0 |       0 |       0 |       0 |       0 |       0 |       0 |       0 |       0 |           0 |       0 |       0 |       0 |       0 |       0 |       0 |       0 |\n",
      "|    PWR_DRAM_ENERGY    |   PWR3  |  27.9583 |      0 |      0 |      0 |      0 |      0 |      0 |       0 |   3.0214 |      0 |       0 |       0 |       0 |       0 |       0 |       0 |       0 |       0 |       0 |       0 |       0 |       0 |       0 |       0 |           0 |       0 |       0 |       0 |       0 |       0 |       0 |       0 |\n",
      "+-----------------------+---------+----------+--------+--------+--------+--------+--------+--------+---------+----------+--------+---------+---------+---------+---------+---------+---------+---------+---------+---------+---------+---------+---------+---------+---------+-------------+---------+---------+---------+---------+---------+---------+---------+\n",
      "\n",
      "+----------------------------+---------+-------------+-----+-------------+--------------+\n",
      "|            Event           | Counter |     Sum     | Min |     Max     |      Avg     |\n",
      "+----------------------------+---------+-------------+-----+-------------+--------------+\n",
      "|   INSTR_RETIRED_ANY STAT   |  FIXC0  | 22008709299 |   0 | 22002269550 | 6.877722e+08 |\n",
      "| CPU_CLK_UNHALTED_CORE STAT |  FIXC1  |  8885156744 |   0 |  8875593732 | 2.776611e+08 |\n",
      "|  CPU_CLK_UNHALTED_REF STAT |  FIXC2  | 19991550672 |   0 | 19970033400 | 6.247360e+08 |\n",
      "|       TEMP_CORE STAT       |   TMP0  |         706 |  17 |          27 |      22.0625 |\n",
      "|     PWR_PKG_ENERGY STAT    |   PWR0  |    409.9261 |   0 |    211.9130 |      12.8102 |\n",
      "|     PWR_PP0_ENERGY STAT    |   PWR1  |           0 |   0 |           0 |            0 |\n",
      "|    PWR_DRAM_ENERGY STAT    |   PWR3  |     30.9797 |   0 |     27.9583 |       0.9681 |\n",
      "+----------------------------+---------+-------------+-----+-------------+--------------+\n",
      "\n",
      "+----------------------+--------------+---------+---------+--------------+---------+---------+---------+----------+----------+--------------+--------------+----------+----------+----------+---------+----------+--------------+---------+---------+---------+--------------+---------+----------+----------+----------+---------+---------+----------+---------+---------+---------+----------+\n",
      "|        Metric        |    Core 0    |  Core 1 |  Core 2 |    Core 3    |  Core 4 |  Core 5 |  Core 6 |  Core 7  |  Core 8  |    Core 9    |    Core 10   |  Core 11 |  Core 12 |  Core 13 | Core 14 |  Core 15 |    Core 16   | Core 17 | Core 18 | Core 19 |    Core 20   | Core 21 |  Core 22 |  Core 23 |  Core 24 | Core 25 | Core 26 |  Core 27 | Core 28 | Core 29 | Core 30 |  Core 31 |\n",
      "+----------------------+--------------+---------+---------+--------------+---------+---------+---------+----------+----------+--------------+--------------+----------+----------+----------+---------+----------+--------------+---------+---------+---------+--------------+---------+----------+----------+----------+---------+---------+----------+---------+---------+---------+----------+\n",
      "|  Runtime (RDTSC) [s] |      11.1217 | 11.1217 | 11.1217 |      11.1217 | 11.1217 | 11.1217 | 11.1217 |  11.1217 |  11.1217 |      11.1217 |      11.1217 |  11.1217 |  11.1217 |  11.1217 | 11.1217 |  11.1217 |      11.1217 | 11.1217 | 11.1217 | 11.1217 |      11.1217 | 11.1217 |  11.1217 |  11.1217 |  11.1217 | 11.1217 | 11.1217 |  11.1217 | 11.1217 | 11.1217 | 11.1217 |  11.1217 |\n",
      "| Runtime unhalted [s] | 1.572452e-05 |       0 |       0 | 1.295395e-05 |       0 |       0 |       0 |   0.0016 |   0.0003 | 4.646077e-05 | 3.065681e-05 |   0.0001 |   0.0001 |   0.0003 |       0 |   0.0006 | 2.447345e-05 |       0 |       0 |       0 | 1.510007e-06 |       0 |   0.0008 |   0.0001 |   4.9309 |       0 |       0 |   0.0002 |       0 |       0 |       0 |   0.0010 |\n",
      "|      Clock [MHz]     |     799.5443 |    -    |    -    |     798.5237 |    -    |    -    |    -    | 799.8916 | 800.0209 |     799.8146 |     799.2721 | 800.0191 | 800.0010 | 800.1032 |    -    | 799.7407 |     799.7784 |    -    |    -    |    -    |     799.4081 |    -    | 799.9727 | 800.2571 | 799.9984 |    -    |    -    | 800.4686 |    -    |    -    |    -    | 800.1118 |\n",
      "|          CPI         |       5.8576 |    -    |    -    |       4.5355 |    -    |    -    |    -    |   2.4746 |   1.2623 |       3.3337 |       2.6668 |   1.3277 |   3.5603 |   1.8778 |    -    |   1.7500 |       6.6474 |    -    |    -    |    -    |      12.0265 |    -    |   1.0089 |   1.5223 |   0.4034 |    -    |    -    |   4.6323 |    -    |    -    |    -    |   0.9124 |\n",
      "|    Temperature [C]   |           26 |      26 |      25 |           25 |      26 |      25 |      25 |       27 |       19 |           18 |           18 |       19 |       19 |       17 |      19 |       19 |           26 |      26 |      25 |      25 |           25 |      25 |       25 |       27 |       20 |      18 |      18 |       19 |      19 |      17 |      19 |       19 |\n",
      "|      Energy [J]      |     198.0131 |       0 |       0 |            0 |       0 |       0 |       0 |        0 | 211.9130 |            0 |            0 |        0 |        0 |        0 |       0 |        0 |            0 |       0 |       0 |       0 |            0 |       0 |        0 |        0 |        0 |       0 |       0 |        0 |       0 |       0 |       0 |        0 |\n",
      "|       Power [W]      |      17.8042 |       0 |       0 |            0 |       0 |       0 |       0 |        0 |  19.0540 |            0 |            0 |        0 |        0 |        0 |       0 |        0 |            0 |       0 |       0 |       0 |            0 |       0 |        0 |        0 |        0 |       0 |       0 |        0 |       0 |       0 |       0 |        0 |\n",
      "|    Energy PP0 [J]    |            0 |       0 |       0 |            0 |       0 |       0 |       0 |        0 |        0 |            0 |            0 |        0 |        0 |        0 |       0 |        0 |            0 |       0 |       0 |       0 |            0 |       0 |        0 |        0 |        0 |       0 |       0 |        0 |       0 |       0 |       0 |        0 |\n",
      "|     Power PP0 [W]    |            0 |       0 |       0 |            0 |       0 |       0 |       0 |        0 |        0 |            0 |            0 |        0 |        0 |        0 |       0 |        0 |            0 |       0 |       0 |       0 |            0 |       0 |        0 |        0 |        0 |       0 |       0 |        0 |       0 |       0 |       0 |        0 |\n",
      "|    Energy DRAM [J]   |      27.9583 |       0 |       0 |            0 |       0 |       0 |       0 |        0 |   3.0214 |            0 |            0 |        0 |        0 |        0 |       0 |        0 |            0 |       0 |       0 |       0 |            0 |       0 |        0 |        0 |        0 |       0 |       0 |        0 |       0 |       0 |       0 |        0 |\n",
      "|    Power DRAM [W]    |       2.5139 |       0 |       0 |            0 |       0 |       0 |       0 |        0 |   0.2717 |            0 |            0 |        0 |        0 |        0 |       0 |        0 |            0 |       0 |       0 |       0 |            0 |       0 |        0 |        0 |        0 |       0 |       0 |        0 |       0 |       0 |       0 |        0 |\n",
      "+----------------------+--------------+---------+---------+--------------+---------+---------+---------+----------+----------+--------------+--------------+----------+----------+----------+---------+----------+--------------+---------+---------+---------+--------------+---------+----------+----------+----------+---------+---------+----------+---------+---------+---------+----------+\n",
      "\n",
      "+---------------------------+------------+----------+----------+----------+\n",
      "|           Metric          |     Sum    |    Min   |    Max   |    Avg   |\n",
      "+---------------------------+------------+----------+----------+----------+\n",
      "|  Runtime (RDTSC) [s] STAT |   355.8944 |  11.1217 |  11.1217 |  11.1217 |\n",
      "| Runtime unhalted [s] STAT |     4.9361 |        0 |   4.9309 |   0.1543 |\n",
      "|      Clock [MHz] STAT     | 13596.9263 | 798.5237 | 800.4686 | 424.9039 |\n",
      "|          CPI STAT         |    55.7995 |   0.4034 |  12.0265 |   1.7437 |\n",
      "|    Temperature [C] STAT   |        706 |       17 |       27 |  22.0625 |\n",
      "|      Energy [J] STAT      |   409.9261 |        0 | 211.9130 |  12.8102 |\n",
      "|       Power [W] STAT      |    36.8582 |        0 |  19.0540 |   1.1518 |\n",
      "|    Energy PP0 [J] STAT    |          0 |        0 |        0 |        0 |\n",
      "|     Power PP0 [W] STAT    |          0 |        0 |        0 |        0 |\n",
      "|    Energy DRAM [J] STAT   |    30.9797 |        0 |  27.9583 |   0.9681 |\n",
      "|    Power DRAM [W] STAT    |     2.7856 |        0 |   2.5139 |   0.0871 |\n",
      "+---------------------------+------------+----------+----------+----------+\n",
      "\n"
     ]
    }
   ],
   "source": [
    "! echo \"800 MHz\"\n",
    "! ssh htseng@eevee \"cd /nfshome/htseng/courses/CSE142/demo/parallel_architectures/power_energy; sudo sh /nfshome/htseng/courses/CSE142/demo/parallel_architectures/power_energy/changeMaxFreq.sh; sudo likwid-perfctr -g ENERGY ./popcounts/popcount_SSE42\"\n"
   ]
  },
  {
   "cell_type": "code",
   "execution_count": null,
   "id": "6b75dfe8-aca5-4392-84b2-0d61f34b55de",
   "metadata": {},
   "outputs": [],
   "source": [
    "! echo \"3 GHz\"\n",
    "! ssh htseng@eevee \"cd ~/courses/CSE142/demo/parallel_architectures/power_energy; sudo sh /nfshome/htseng/courses/CSE142/demo/parallel_architectures/power_energy/restoreMaxFreq.sh; sudo likwid-perfctr -g ENERGY ./popcounts/popcount_SSE42\"\n"
   ]
  },
  {
   "cell_type": "code",
   "execution_count": null,
   "id": "4b5860ab-f004-4f23-b2ee-dc3181b22319",
   "metadata": {},
   "outputs": [],
   "source": [
    "render_code(\"matrix_mul/blockmm.c\", show=[\"//START\",\"//END\"])"
   ]
  },
  {
   "cell_type": "code",
   "execution_count": null,
   "id": "f2a03670-f9df-4f09-a332-5c6e01937711",
   "metadata": {},
   "outputs": [],
   "source": [
    "render_code(\"matrix_mul/blockmm.c\", show=[\"//START_SSE\",\"//END_SSE\"])"
   ]
  },
  {
   "cell_type": "code",
   "execution_count": null,
   "id": "9c4fea1f-a4d4-4137-84df-763a3863a183",
   "metadata": {},
   "outputs": [],
   "source": [
    "! make -C matrix_mul blockmm blockmm_SSE"
   ]
  },
  {
   "cell_type": "code",
   "execution_count": null,
   "id": "705d131b-3f9e-40df-905a-3b1cebbaf0ce",
   "metadata": {},
   "outputs": [],
   "source": [
    "! cd matrix_mul; echo \"IC,Cycles,CPI,CT_ns,ET_s,DL1_miss_rate,DL1_misses,DL1_accesses\" > blockmm.csv\n",
    "! ./matrix_mul/blockmm 32 1 >> ./matrix_mul/blockmm.csv ;./matrix_mul/blockmm 1024 256 >> ./matrix_mul/blockmm.csv ; ./matrix_mul/blockmm 2048 256 >> ./matrix_mul/blockmm.csv; ./matrix_mul/blockmm 4096 256 >> ./matrix_mul/blockmm.csv"
   ]
  },
  {
   "cell_type": "code",
   "execution_count": null,
   "id": "32a62ec3-5bb2-4906-ad90-86cd6256c9b6",
   "metadata": {},
   "outputs": [],
   "source": [
    "display_df_mono(render_csv(\"matrix_mul/blockmm.csv\"))"
   ]
  },
  {
   "cell_type": "code",
   "execution_count": null,
   "id": "a37d31a9-6cfb-41ea-b2a8-cd6a6d29aa34",
   "metadata": {},
   "outputs": [],
   "source": [
    "! cd matrix_mul; echo \"IC,Cycles,CPI,CT_ns,ET_s,DL1_miss_rate,DL1_misses,DL1_accesses\" > blockmm_SSE.csv\n",
    "! ./matrix_mul/blockmm_SSE 32 1 >> ./matrix_mul/blockmm_SSE.csv ;./matrix_mul/blockmm_SSE 1024 256 >> ./matrix_mul/blockmm_SSE.csv ; ./matrix_mul/blockmm_SSE 2048 256 >> ./matrix_mul/blockmm_SSE.csv; ./matrix_mul/blockmm_SSE 4096 256 >> ./matrix_mul/blockmm_SSE.csv"
   ]
  },
  {
   "cell_type": "code",
   "execution_count": null,
   "id": "792f8348-7b93-4444-81b6-f7fe4611c5fd",
   "metadata": {},
   "outputs": [],
   "source": [
    "display_df_mono(render_csv(\"matrix_mul/blockmm_SSE.csv\"))"
   ]
  },
  {
   "cell_type": "code",
   "execution_count": null,
   "id": "cb40c114-646b-489e-b1dc-3e9e4c36e79f",
   "metadata": {},
   "outputs": [],
   "source": [
    "render_code(\"vmul/vmul_cuda.cu\", show=[\"//START\",\"//END\"])"
   ]
  },
  {
   "cell_type": "code",
   "execution_count": null,
   "id": "49b564b6-ca20-4cf6-b20d-a4911cfc930b",
   "metadata": {},
   "outputs": [],
   "source": [
    "! cd vmul; make clean; make\n",
    "! echo \"THREADS,CPUTIME,HOST2GPU,GPUTIME,GPU2HOST\" > ./vmul/vmul.csv\n",
    "! echo \"CPU based vul\"\n",
    "! time ./vmul/vmul 33554432 1 0 30 2>> ./vmul/vmul.csv\n",
    "! echo \"GPU based vul\"\n",
    "### i stands for \"How many iterations each thread performs \n",
    "### -- the larger the number, the fewer the parallelism\n",
    "! for i in 1 2 4 8 16 32 64 128 256 512 1024 2048 4096 8192; do time ./vmul/vmul 33554432 $i 1 30 2>> ./vmul/vmul.csv ; done"
   ]
  },
  {
   "cell_type": "code",
   "execution_count": null,
   "id": "09796fb5-0e3f-4ec1-bd13-a7108d86ebfb",
   "metadata": {},
   "outputs": [],
   "source": [
    "df = render_csv(\"./vmul/vmul.csv\")\n",
    "df[\"TOTAL\"] = df[\"CPUTIME\"] + df[\"HOST2GPU\"] + df[\"GPUTIME\"] + df[\"GPU2HOST\"]\n",
    "df = df.sort_values(by=[\"THREADS\"], ascending=True)\n",
    "display_df_mono(df)\n",
    "plotPE(df=df, lines=True, what=[ ('THREADS', \"TOTAL\"), ('THREADS', \"GPUTIME\")], columns=2)"
   ]
  }
 ],
 "metadata": {
  "kernelspec": {
   "display_name": "Python 3 (ipykernel)",
   "language": "python",
   "name": "python3"
  },
  "language_info": {
   "codemirror_mode": {
    "name": "ipython",
    "version": 3
   },
   "file_extension": ".py",
   "mimetype": "text/x-python",
   "name": "python",
   "nbconvert_exporter": "python",
   "pygments_lexer": "ipython3",
   "version": "3.8.10"
  },
  "toc-autonumbering": true,
  "toc-showcode": false,
  "toc-showmarkdowntxt": false,
  "widgets": {
   "application/vnd.jupyter.widget-state+json": {
    "state": {},
    "version_major": 2,
    "version_minor": 0
   }
  }
 },
 "nbformat": 4,
 "nbformat_minor": 5
}
